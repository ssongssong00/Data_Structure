{
 "cells": [
  {
   "cell_type": "markdown",
   "id": "aac78f0a-837d-43d5-9c3e-c71525cc89b8",
   "metadata": {},
   "source": [
    "### 그리디 : 큰 수의 법칙"
   ]
  },
  {
   "cell_type": "code",
   "execution_count": 13,
   "id": "3238a863-862a-48ef-99c0-7334f9efffdc",
   "metadata": {},
   "outputs": [
    {
     "name": "stdin",
     "output_type": "stream",
     "text": [
      " 5 8 3\n",
      " 2 4 5 4 6\n"
     ]
    },
    {
     "name": "stdout",
     "output_type": "stream",
     "text": [
      "46\n"
     ]
    }
   ],
   "source": [
    "n, m, k = map(int, input().split())\n",
    "data = list(map(int, input().split()))\n",
    "\n",
    "data.sort()\n",
    "first = data[-1]\n",
    "second = data[-2]\n",
    "\n",
    "result = 0\n",
    "\n",
    "while True:\n",
    "    for i in range(k):\n",
    "        if m == 0:\n",
    "            break\n",
    "        result += first\n",
    "        m -= 1\n",
    "\n",
    "    if m == 0:\n",
    "        break\n",
    "\n",
    "    result += second\n",
    "    m -= 1\n",
    "\n",
    "print(result)"
   ]
  },
  {
   "cell_type": "code",
   "execution_count": 15,
   "id": "8227fbf0-3180-4a5b-a088-cc042e534b28",
   "metadata": {},
   "outputs": [
    {
     "name": "stdin",
     "output_type": "stream",
     "text": [
      " 5 8 3\n",
      " 2 4 5 4 6\n"
     ]
    },
    {
     "name": "stdout",
     "output_type": "stream",
     "text": [
      "46\n"
     ]
    }
   ],
   "source": [
    "# 수열 활용해서 품\n",
    "n, m, k = map(int, input().split())\n",
    "data = list(map(int, input().split()))\n",
    "\n",
    "data.sort()\n",
    "first = data[-1]\n",
    "second = data[-2]\n",
    "\n",
    "result = 0\n",
    "\n",
    "count = int(m / (k + 1)) * k\n",
    "count += m % (k + 1)\n",
    "\n",
    "result = count * first\n",
    "result += (m - count) * second\n",
    "\n",
    "print(result)"
   ]
  },
  {
   "cell_type": "markdown",
   "id": "95d2127d-a7fa-4f19-b57f-3ab0f51fb31d",
   "metadata": {},
   "source": [
    "### 그리디 : 숫자카드게임"
   ]
  },
  {
   "cell_type": "code",
   "execution_count": 19,
   "id": "39ec9a67-b5d2-4a0a-a483-089b400bfa9e",
   "metadata": {},
   "outputs": [
    {
     "name": "stdin",
     "output_type": "stream",
     "text": [
      " 3 3\n",
      " 2 1 1\n",
      " 3 5 6\n",
      " 2 9 1\n"
     ]
    },
    {
     "name": "stdout",
     "output_type": "stream",
     "text": [
      "3\n"
     ]
    }
   ],
   "source": [
    "n, m = map(int, input().split())\n",
    "result = 0\n",
    "\n",
    "for i in range(n):\n",
    "    data = list(map(int, input().split()))\n",
    "    min_value = min(data)\n",
    "    result = max(result, min_value)\n",
    "\n",
    "print(result)"
   ]
  },
  {
   "cell_type": "code",
   "execution_count": 21,
   "id": "98a9417c-d230-403c-a197-a8bf64a9e8dd",
   "metadata": {},
   "outputs": [
    {
     "name": "stdin",
     "output_type": "stream",
     "text": [
      " 3 3\n",
      " 2 1 1\n",
      " 3 5 6\n",
      " 2 9 1\n"
     ]
    },
    {
     "name": "stdout",
     "output_type": "stream",
     "text": [
      "3\n"
     ]
    }
   ],
   "source": [
    "n, m = map(int, input().split())\n",
    "result = 0\n",
    "\n",
    "for i in range(n):\n",
    "    data = list(map(int, input().split()))\n",
    "    min_value = 10001\n",
    "    for a in data:\n",
    "        min_value = min(min_value, a)\n",
    "\n",
    "    result = max(result, min_value)\n",
    "\n",
    "print(result)"
   ]
  },
  {
   "cell_type": "markdown",
   "id": "ed3537ef-c887-4666-a604-f8bf8c6bd154",
   "metadata": {},
   "source": [
    "### 그리디 : 1이 될때까지"
   ]
  },
  {
   "cell_type": "code",
   "execution_count": 23,
   "id": "f9105dff-ca1f-4144-b535-63bacd46b981",
   "metadata": {},
   "outputs": [
    {
     "name": "stdin",
     "output_type": "stream",
     "text": [
      " 26 5\n"
     ]
    },
    {
     "name": "stdout",
     "output_type": "stream",
     "text": [
      "3\n"
     ]
    }
   ],
   "source": [
    "n, k = map(int, input().split())\n",
    "result = 0\n",
    "\n",
    "while n >= k:\n",
    "    while n % k != 0:\n",
    "        n -= 1\n",
    "        result += 1\n",
    "\n",
    "    n //= k\n",
    "    result += 1\n",
    "\n",
    "while n > 1:\n",
    "    n -= 1\n",
    "    result += 1\n",
    "\n",
    "print(result)"
   ]
  },
  {
   "cell_type": "code",
   "execution_count": 25,
   "id": "c7cb7ef5-8075-4090-aa25-aa711b9da6ca",
   "metadata": {},
   "outputs": [
    {
     "name": "stdin",
     "output_type": "stream",
     "text": [
      " 25 3\n"
     ]
    },
    {
     "name": "stdout",
     "output_type": "stream",
     "text": [
      "6\n"
     ]
    }
   ],
   "source": [
    "n, k = map(int, input().split())\n",
    "result = 0\n",
    "\n",
    "while True:\n",
    "    target = (n//k) * k\n",
    "    result += (n - target) # n 값이 target 값이 되려면 1을 몇 번 뺴야하는가?\n",
    "    \n",
    "    n = target\n",
    "    \n",
    "    if n < k:\n",
    "        break\n",
    "    \n",
    "    result += 1\n",
    "    n //= k\n",
    "\n",
    "result += (n-1)\n",
    "print(result)\n",
    "    "
   ]
  },
  {
   "cell_type": "markdown",
   "id": "b6c3bc75-5cd2-4cdb-b8e8-671c88c3d757",
   "metadata": {},
   "source": [
    "### 구현 : 상하좌우"
   ]
  },
  {
   "cell_type": "code",
   "execution_count": 3,
   "id": "541d5b51-0cc1-43e2-a34e-4fc984843448",
   "metadata": {},
   "outputs": [
    {
     "name": "stdin",
     "output_type": "stream",
     "text": [
      " 5\n",
      " R R R U D D\n"
     ]
    },
    {
     "name": "stdout",
     "output_type": "stream",
     "text": [
      "3 4\n"
     ]
    }
   ],
   "source": [
    "n = int(input())\n",
    "x, y = 1, 1\n",
    "plans = input().split()\n",
    "\n",
    "dx = [0, 0, -1, 1]\n",
    "dy = [-1, 1, 0, 0]\n",
    "move_types = ['L','R', 'U', 'D']\n",
    "\n",
    "for plan in plans:\n",
    "    for i in range(len(move_types)):\n",
    "        if plan == move_types[i]:\n",
    "            nx = x + dx[i]\n",
    "            ny = y + dy[i]\n",
    "\n",
    "    if nx < 1 or ny < 1 or nx > n or ny > n:\n",
    "        continue\n",
    "\n",
    "    x, y = nx, ny\n",
    "\n",
    "print(x,y)"
   ]
  },
  {
   "cell_type": "markdown",
   "id": "b9fdd40b-1bbb-4009-a119-e036817d2fe1",
   "metadata": {},
   "source": [
    "### 구현 : 시각"
   ]
  },
  {
   "cell_type": "code",
   "execution_count": 5,
   "id": "0317ebf0-a0aa-41fe-b1f8-da99340a7adb",
   "metadata": {},
   "outputs": [
    {
     "name": "stdin",
     "output_type": "stream",
     "text": [
      " 5\n"
     ]
    },
    {
     "name": "stdout",
     "output_type": "stream",
     "text": [
      "11475\n"
     ]
    }
   ],
   "source": [
    "h = int(input())\n",
    "\n",
    "count = 0\n",
    "for i in range(h+1):\n",
    "    for j in range(60):\n",
    "        for k in range(60):\n",
    "            if '3' in str(i) + str(j) + str(k):\n",
    "                count += 1\n",
    "\n",
    "print(count)"
   ]
  },
  {
   "cell_type": "markdown",
   "id": "de158023-d771-475c-812c-70c49fcab8fe",
   "metadata": {},
   "source": [
    "### 구현 : 왕실의 나이트"
   ]
  },
  {
   "cell_type": "code",
   "execution_count": 22,
   "id": "25153c50-0c30-406d-99ca-76583375d2da",
   "metadata": {
    "scrolled": true
   },
   "outputs": [
    {
     "name": "stdin",
     "output_type": "stream",
     "text": [
      " a1\n"
     ]
    },
    {
     "name": "stdout",
     "output_type": "stream",
     "text": [
      "2\n"
     ]
    }
   ],
   "source": [
    "input_data = input()\n",
    "row = int(input_data[1])\n",
    "column = int(ord(input_data[0])) - int(ord('a')) + 1 # ASCII 코드는 문자 - 숫자 형식으로 매칭이 되어 있는데 인풋값에서 a의 아스키 코드 값을 빼서 열 number를 구함\n",
    "\n",
    "steps = [(-2,1), (-2, -1), (2, 1), (2,-1),(1,2),(1,-2),(-1,2),(-1,-2)]\n",
    "\n",
    "result = 0\n",
    "for step in steps:\n",
    "    n_row = row + step[0]\n",
    "    n_col = column + step[1]\n",
    "\n",
    "    if n_row >= 1 and n_col >= 1 and n_row <= 8 and n_col <= 8:\n",
    "        result += 1\n",
    "\n",
    "print(result)"
   ]
  },
  {
   "cell_type": "markdown",
   "id": "afa3c329-eaaf-4580-9ff0-182602ceacaa",
   "metadata": {},
   "source": [
    "### 구현 : 게임 개발"
   ]
  },
  {
   "cell_type": "code",
   "execution_count": 3,
   "id": "f1b5e010-a32d-4ca3-a821-1d33eef22636",
   "metadata": {},
   "outputs": [
    {
     "name": "stdin",
     "output_type": "stream",
     "text": [
      " 4 4\n",
      " 1 1 0\n",
      " 1 1 1 1\n",
      " 1 0 0 1\n",
      " 1 1 0 1\n",
      " 1 1 1 1\n"
     ]
    },
    {
     "name": "stdout",
     "output_type": "stream",
     "text": [
      "3\n"
     ]
    }
   ],
   "source": [
    "n, m = map(int,input().split())\n",
    "x, y, direction = map(int,input().split())\n",
    "d = [[0]*m for _ in range(n)]\n",
    "d[x][y] = 1\n",
    "\n",
    "array = []\n",
    "for i in range(n):\n",
    "    array.append(list(map(int, input().split())))\n",
    "\n",
    "dx = [-1, 0, 1, 0]\n",
    "dy = [0, 1, 0, -1]\n",
    "\n",
    "def turn_left():\n",
    "    global direction\n",
    "    direction -= 1\n",
    "    if direction == -1:\n",
    "        direction = 3\n",
    "\n",
    "count = 1\n",
    "turn_time = 0\n",
    "while True:\n",
    "    turn_left()\n",
    "    nx = x + dx[direction]\n",
    "    ny = y + dy[direction]\n",
    "\n",
    "    if d[nx][ny] == 0 and array[nx][ny] == 0:\n",
    "        d[nx][ny] = 1\n",
    "        x = nx\n",
    "        y = ny\n",
    "        count += 1\n",
    "        turn_time = 0\n",
    "        continue\n",
    "\n",
    "    else:\n",
    "        turn_time += 1\n",
    "\n",
    "    if turn_time == 4:\n",
    "        nx = x-dx[direction]\n",
    "        ny = y-dx[direction]\n",
    "\n",
    "        if array[nx][ny] == 0:\n",
    "            x = nx\n",
    "            y = ny\n",
    "\n",
    "        else:\n",
    "            break\n",
    "\n",
    "        turn_time = 0\n",
    "\n",
    "print(count)"
   ]
  },
  {
   "cell_type": "markdown",
   "id": "8e9705f5-2321-4709-9d89-b086fd9cc91c",
   "metadata": {},
   "source": [
    "### DFS/BFS : DFS"
   ]
  },
  {
   "cell_type": "code",
   "execution_count": 4,
   "id": "2868c444-5b29-4e31-b33c-045b439feb0b",
   "metadata": {},
   "outputs": [],
   "source": [
    "def dfs(graph, v, visited):\n",
    "    visited[v] = True\n",
    "    print(v, end = ' ')\n",
    "\n",
    "    for i in graph[v]:\n",
    "        if not visited[i]:\n",
    "            dfs(graph, i, visited)"
   ]
  },
  {
   "cell_type": "markdown",
   "id": "53cabd8c-b8fd-41c0-8cbc-6e3c7c93f204",
   "metadata": {},
   "source": [
    "### DFS/BFS : DFS"
   ]
  },
  {
   "cell_type": "code",
   "execution_count": 5,
   "id": "23f33c3a-be99-4a7d-8db3-ddb7eaaed857",
   "metadata": {},
   "outputs": [],
   "source": [
    "from collections import deque\n",
    "\n",
    "def bfs(graph, start, visited):\n",
    "    queue = deque([start])\n",
    "    visited[start] = True\n",
    "\n",
    "    while queue:\n",
    "        v = queue.popleft()\n",
    "        print(v, end = ' ')\n",
    "\n",
    "        for i in graph[v]:\n",
    "            if not visited[i]:\n",
    "                queue.append(i)\n",
    "                visited[i] = True"
   ]
  },
  {
   "cell_type": "markdown",
   "id": "a832d637-a0fa-4cf2-a163-8252913dd833",
   "metadata": {},
   "source": [
    "### DFS/BFS : 음료수 얼려먹기"
   ]
  },
  {
   "cell_type": "code",
   "execution_count": null,
   "id": "93cf5163-f8a1-4429-a476-37681a0e2529",
   "metadata": {},
   "outputs": [],
   "source": [
    "# n, m = map(int, input().split())\n",
    "\n",
    "graph = []\n",
    "for i in range(n):\n",
    "    graph.append(list(map(int, input().split())))\n",
    "\n",
    "def dfs(x,y):\n",
    "    if x <= -1 or x >= n or y <= -1 or y >= m:\n",
    "        return False\n",
    "\n",
    "    if graph[x][y] == 0:\n",
    "        graph[x][y] = 1\n",
    "\n",
    "        dfs(x-1, y) #상\n",
    "        dfs(x,y-1) #좌\n",
    "        dfs(x+1,y) #하\n",
    "        dfs(x,y+1) #우\n",
    "\n",
    "        return True\n",
    "\n",
    "    return False\n",
    "\n",
    "result = 0\n",
    "for i in range(n):\n",
    "    for j in range(m):\n",
    "        if dfs(i,j) == True:\n",
    "            result += 1\n",
    "\n",
    "print(result)"
   ]
  },
  {
   "cell_type": "markdown",
   "id": "41e9188e-deb0-495e-81bd-97d0d6d3ef5a",
   "metadata": {},
   "source": [
    "### DFS/BFS : 미로 찾기"
   ]
  },
  {
   "cell_type": "code",
   "execution_count": 11,
   "id": "90955e0f-4b7e-4383-b2e0-6f358f19bc7b",
   "metadata": {},
   "outputs": [
    {
     "name": "stdin",
     "output_type": "stream",
     "text": [
      " 3 3\n",
      " 1 1 0\n",
      " 0 1 0\n",
      " 0 1 1\n"
     ]
    },
    {
     "name": "stdout",
     "output_type": "stream",
     "text": [
      "5\n"
     ]
    }
   ],
   "source": [
    "# from collections import deque\n",
    "\n",
    "n, m = map(int, input().split())\n",
    "\n",
    "graph = []\n",
    "for i in range(n):\n",
    "    graph.append(list(map(int,input().split())))\n",
    "    \n",
    "# 상, 하, 좌, 우\n",
    "dx = [-1, 1, 0, 0]\n",
    "dy = [0,0,-1,1]\n",
    "\n",
    "def bfs(x,y):\n",
    "    queue = deque()\n",
    "    queue.append((x,y))\n",
    "\n",
    "    while queue:\n",
    "        x,y = queue.popleft()\n",
    "        for i in range(4):\n",
    "            nx = x+dx[i]\n",
    "            ny = y+dy[i]\n",
    "\n",
    "            if nx <0 or ny <0 or nx >= n or ny >= m:\n",
    "                continue\n",
    "\n",
    "            if graph[nx][ny] == 0:\n",
    "                continue\n",
    "\n",
    "            if graph[nx][ny] == 1:\n",
    "                graph[nx][ny] = graph[x][y] + 1\n",
    "                queue.append((nx,ny))\n",
    "\n",
    "    return graph[n-1][m-1]\n",
    "\n",
    "print(bfs(0,0))"
   ]
  },
  {
   "cell_type": "markdown",
   "id": "40836612-9d4e-459e-9fa3-c7ee83cf5320",
   "metadata": {},
   "source": [
    "### 정렬 : 선택정렬"
   ]
  },
  {
   "cell_type": "code",
   "execution_count": 17,
   "id": "2ff4351f-2e91-46c9-87f8-d8aa6be6cabf",
   "metadata": {},
   "outputs": [
    {
     "name": "stdout",
     "output_type": "stream",
     "text": [
      "[0, 1, 2, 3, 4, 5, 6, 7, 8, 9]\n"
     ]
    }
   ],
   "source": [
    "array = [7, 5, 9, 0, 3, 1, 6, 2, 4, 8]\n",
    "\n",
    "for i in range(len(array)):\n",
    "    min_index = i\n",
    "    for j in range(i+1, len(array)):\n",
    "        if array[min_index] > array[j]:\n",
    "            min_index = j\n",
    "    array[i], array[min_index] = array[min_index], array[i]\n",
    "\n",
    "print(array)"
   ]
  },
  {
   "cell_type": "markdown",
   "id": "37860aa6-4f0f-4a7b-92ff-25ad7379f70f",
   "metadata": {},
   "source": [
    "### 정렬 : 삽입정렬"
   ]
  },
  {
   "cell_type": "code",
   "execution_count": 20,
   "id": "ea6abc61-136c-42d1-9d88-b0b7df42d356",
   "metadata": {},
   "outputs": [
    {
     "name": "stdout",
     "output_type": "stream",
     "text": [
      "[0, 1, 2, 3, 4, 5, 6, 7, 8, 9]\n"
     ]
    }
   ],
   "source": [
    "array = [7,5,9,0,3,1,6,2,4,8]\n",
    "\n",
    "for i in range(1, len(array)):\n",
    "    for j in range(i, 0, -1):\n",
    "        if array[j] < array[j-1]:\n",
    "            array[j], array[j-1] = array[j-1], array[j]\n",
    "\n",
    "        else:\n",
    "            break\n",
    "\n",
    "print(array)"
   ]
  },
  {
   "cell_type": "markdown",
   "id": "1678ac30-5b39-4ff3-91a5-2931715e609e",
   "metadata": {},
   "source": [
    "### 정렬 : 퀵 정렬"
   ]
  },
  {
   "cell_type": "code",
   "execution_count": 22,
   "id": "ceac8535-deda-4fe6-8dfc-609f4c22ec3f",
   "metadata": {},
   "outputs": [
    {
     "name": "stdout",
     "output_type": "stream",
     "text": [
      "[0, 1, 2, 3, 4, 5, 6, 8, 7, 9]\n"
     ]
    }
   ],
   "source": [
    "array = [5, 7, 9, 0, 3, 1, 6, 2, 4, 8]\n",
    "\n",
    "def quick_sort(array, start, end):\n",
    "    if start >= end:\n",
    "        return\n",
    "\n",
    "    pivot = start\n",
    "    left = start + 1\n",
    "    right = end\n",
    "    while left < right:\n",
    "        while left <= end and array[left] <= array[pivot]:\n",
    "            left += 1\n",
    "\n",
    "        while right > start and array[right] >= array[pivot]:\n",
    "            right -= 1\n",
    "\n",
    "        if left > right:\n",
    "            array[right], array[pivot] = array[pivot], array[right]\n",
    "\n",
    "        else:\n",
    "            array[left], array[right] = array[right], array[left]\n",
    "\n",
    "        quick_sort(array, start, right -1)\n",
    "        quick_sort(array, right + 1, end)\n",
    "\n",
    "quick_sort(array, 0, len(array)- 1)\n",
    "\n",
    "print(array)"
   ]
  },
  {
   "cell_type": "code",
   "execution_count": 23,
   "id": "ae07cbd7-648f-4ec3-85a7-190853de1f10",
   "metadata": {},
   "outputs": [
    {
     "name": "stdout",
     "output_type": "stream",
     "text": [
      "[0, 1, 2, 3, 4, 5, 6, 7, 8, 9]\n"
     ]
    }
   ],
   "source": [
    "array = [5, 7, 9, 0, 3, 1, 6, 2, 4, 8]\n",
    "\n",
    "def quick_sort(array):\n",
    "    if len(array) <= 1:\n",
    "        return array\n",
    "\n",
    "    pivot = array[0]\n",
    "    tail = array[1:]\n",
    "\n",
    "    left_side = [x for x in tail if x <= pivot]\n",
    "    right_side = [x for x in tail if x > pivot]\n",
    "\n",
    "    return quick_sort(left_side) + [pivot] + quick_sort(right_side)\n",
    "\n",
    "print(quick_sort(array))"
   ]
  },
  {
   "cell_type": "markdown",
   "id": "df495924-322b-4c04-9bd4-0020d2dc09a1",
   "metadata": {},
   "source": [
    "### 정렬 : 계수 정렬"
   ]
  },
  {
   "cell_type": "code",
   "execution_count": 26,
   "id": "27f1fcd2-ef90-4e0f-848b-52d0cecd24f6",
   "metadata": {},
   "outputs": [
    {
     "name": "stdout",
     "output_type": "stream",
     "text": [
      "0 0 1 1 2 3 4 5 5 6 7 8 9 9 "
     ]
    }
   ],
   "source": [
    "array = [7, 5, 9, 0, 3, 1, 6, 2, 9, 1, 4, 8, 0, 5]\n",
    "\n",
    "count = [0] * (max(array)+ 1)\n",
    "\n",
    "for i in range(len(array)):\n",
    "    count[array[i]] += 1\n",
    "\n",
    "for i in range(len(count)):\n",
    "    for j in range(count[i]):\n",
    "        print(i, end = ' ')"
   ]
  },
  {
   "cell_type": "markdown",
   "id": "28e4e4d3-e5f7-40de-886e-69d4ffaeaf55",
   "metadata": {},
   "source": [
    "### 정렬 : sorted"
   ]
  },
  {
   "cell_type": "code",
   "execution_count": 27,
   "id": "c95d50e9-45f9-426c-ad0c-efb4a292a407",
   "metadata": {},
   "outputs": [
    {
     "data": {
      "text/plain": [
       "[0, 1, 2, 3, 4, 5, 6, 7, 8, 9]"
      ]
     },
     "execution_count": 27,
     "metadata": {},
     "output_type": "execute_result"
    }
   ],
   "source": [
    "array = [7,5,9,0,3,1,6,2,4,8]\n",
    "\n",
    "result = sorted(array)\n",
    "result"
   ]
  },
  {
   "cell_type": "markdown",
   "id": "79dd679d-8fb8-407e-95dd-b655caf7889a",
   "metadata": {},
   "source": [
    "### 정렬 : sort"
   ]
  },
  {
   "cell_type": "code",
   "execution_count": 31,
   "id": "fe557a24-9ca2-4ea3-93d4-0b158b10e20a",
   "metadata": {},
   "outputs": [
    {
     "data": {
      "text/plain": [
       "[0, 1, 2, 3, 4, 5, 6, 7, 8, 9]"
      ]
     },
     "execution_count": 31,
     "metadata": {},
     "output_type": "execute_result"
    }
   ],
   "source": [
    "array = [7,5,9,0,3,1,6,2,4,8]\n",
    "\n",
    "array.sort()\n",
    "array"
   ]
  },
  {
   "cell_type": "markdown",
   "id": "8400dc24-e855-4335-8e57-2a10870e3d84",
   "metadata": {},
   "source": [
    "### 정렬 : 성적이 낮은 순서로 학생 출력하기"
   ]
  },
  {
   "cell_type": "code",
   "execution_count": 7,
   "id": "d2bbbee8-f6f6-4340-94f4-a3e371196102",
   "metadata": {},
   "outputs": [
    {
     "name": "stdin",
     "output_type": "stream",
     "text": [
      " 2\n",
      " 박성우 100\n",
      " 천지현 99\n"
     ]
    },
    {
     "name": "stdout",
     "output_type": "stream",
     "text": [
      "[('박성우', 100), ('천지현', 99)]\n",
      "[('천지현', 99), ('박성우', 100)]\n",
      "천지현 박성우 "
     ]
    }
   ],
   "source": [
    "n = int(input())\n",
    "array = []\n",
    "for i in range(n):\n",
    "    input_data = input().split()\n",
    "    array.append((input_data[0], int(input_data[1])))\n",
    "print(array)\n",
    "array = sorted(array, key = lambda student_score : student_score[1])\n",
    "print(array)\n",
    "\n",
    "for student in array:\n",
    "    print(student[0], end = ' ')"
   ]
  },
  {
   "cell_type": "markdown",
   "id": "e8bfdddd-f932-4e4e-99db-3eca7ac4c7f0",
   "metadata": {},
   "source": [
    "### 정렬 : 두 배열의 원소 교체"
   ]
  },
  {
   "cell_type": "code",
   "execution_count": 11,
   "id": "36a0426c-7c07-433a-900d-4d89e3ef560d",
   "metadata": {},
   "outputs": [
    {
     "ename": "ValueError",
     "evalue": "not enough values to unpack (expected 2, got 0)",
     "output_type": "error",
     "traceback": [
      "\u001b[0;31m---------------------------------------------------------------------------\u001b[0m",
      "\u001b[0;31mValueError\u001b[0m                                Traceback (most recent call last)",
      "Cell \u001b[0;32mIn[11], line 1\u001b[0m\n\u001b[0;32m----> 1\u001b[0m n, k \u001b[38;5;241m=\u001b[39m \u001b[38;5;28mmap\u001b[39m(\u001b[38;5;28mint\u001b[39m, \u001b[38;5;28minput\u001b[39m()\u001b[38;5;241m.\u001b[39msplit())\n\u001b[1;32m      3\u001b[0m a \u001b[38;5;241m=\u001b[39m \u001b[38;5;28mlist\u001b[39m(\u001b[38;5;28mmap\u001b[39m(\u001b[38;5;28mint\u001b[39m, \u001b[38;5;28minput\u001b[39m()\u001b[38;5;241m.\u001b[39msplit()))\n\u001b[1;32m      4\u001b[0m b \u001b[38;5;241m=\u001b[39m \u001b[38;5;28mlist\u001b[39m(\u001b[38;5;28mmap\u001b[39m(\u001b[38;5;28mint\u001b[39m, \u001b[38;5;28minput\u001b[39m()\u001b[38;5;241m.\u001b[39msplit()))\n",
      "\u001b[0;31mValueError\u001b[0m: not enough values to unpack (expected 2, got 0)"
     ]
    }
   ],
   "source": [
    "n, k = map(int, input().split())\n",
    "\n",
    "a = list(map(int, input().split()))\n",
    "b = list(map(int, input().split()))\n",
    "\n",
    "a.sort()\n",
    "b.sort(reverse =True)\n",
    "\n",
    "for i in range(k):\n",
    "    if a[i] < b[i]:\n",
    "        a[i], b[i] = b[i], a[i]\n",
    "\n",
    "    else:\n",
    "        break\n",
    "\n",
    "print(sum(a))\n"
   ]
  },
  {
   "cell_type": "markdown",
   "id": "c11ffcb6-ae8c-4e2c-992c-38f30e7a01ce",
   "metadata": {},
   "source": [
    "### 이진탐색 : 순차탐색"
   ]
  },
  {
   "cell_type": "code",
   "execution_count": 5,
   "id": "4fa2028b-d414-439c-9407-2ec9718a04de",
   "metadata": {},
   "outputs": [
    {
     "name": "stdin",
     "output_type": "stream",
     "text": [
      " 5 성우\n",
      " 지현 성우 자현 주현 쏭\n"
     ]
    },
    {
     "name": "stdout",
     "output_type": "stream",
     "text": [
      "2\n"
     ]
    }
   ],
   "source": [
    "def sequential_search(n, target, array):\n",
    "    \n",
    "    for i in range(n):\n",
    "        if array[i] == target:\n",
    "            return i + 1\n",
    "\n",
    "input_data = input().split()\n",
    "n = int(input_data[0])\n",
    "target = input_data[1]\n",
    "\n",
    "array = input().split()\n",
    "\n",
    "print(sequential_search(n, target, array))"
   ]
  },
  {
   "cell_type": "markdown",
   "id": "6dc38ee5-536e-4a3b-9f9f-4b12e1f9e653",
   "metadata": {},
   "source": [
    "### 이진탐색 : 이진탐색"
   ]
  },
  {
   "cell_type": "code",
   "execution_count": 10,
   "id": "500fd028-07cb-40a8-955d-afd2a3eea8ce",
   "metadata": {},
   "outputs": [
    {
     "name": "stdin",
     "output_type": "stream",
     "text": [
      " 10 7\n",
      " 1 2 3 4 5 6 7 8 9 10\n"
     ]
    },
    {
     "name": "stdout",
     "output_type": "stream",
     "text": [
      "7\n"
     ]
    }
   ],
   "source": [
    "def binary_search(array, target, start, end):\n",
    "    while start <= end:\n",
    "    \n",
    "        mid = (start + end) // 2\n",
    "    \n",
    "        if array[mid] == target:\n",
    "            return mid\n",
    "        elif array[mid] > target:\n",
    "            end = mid - 1\n",
    "    \n",
    "        else:\n",
    "            start = mid + 1\n",
    "    return None\n",
    "\n",
    "n, target = list(map(int, input().split()))\n",
    "\n",
    "array = list(map(int, input().split()))\n",
    "\n",
    "result = binary_search(array, target, 0, n-1)\n",
    "\n",
    "if result == None:\n",
    "    print('No 원소')\n",
    "\n",
    "else:\n",
    "    print(result+1)"
   ]
  },
  {
   "cell_type": "code",
   "execution_count": 19,
   "id": "04b05e71-728b-4428-9e80-a23444aa5f8f",
   "metadata": {},
   "outputs": [
    {
     "name": "stdin",
     "output_type": "stream",
     "text": [
      " 5 3\n",
      " 2 2 3 4 5\n"
     ]
    },
    {
     "name": "stdout",
     "output_type": "stream",
     "text": [
      "3\n"
     ]
    }
   ],
   "source": [
    "def binary_search(array, target, start, end):\n",
    "    if start > end:\n",
    "        return None\n",
    "    mid = (start+end)//2\n",
    "    if array[mid] == target:\n",
    "        return mid\n",
    "    elif array[mid] > target:\n",
    "        return binary_search(array, target, start, mid - 1) # 왼쪽부분 다시 확인\n",
    "    else:\n",
    "        return binary_search(array, target, mid + 1, end) # 오른쪽 부분 다시 확인\n",
    "\n",
    "n, target = list(map(int, input().split()))\n",
    "array = list(map(int, input().split()))\n",
    "\n",
    "result = binary_search(array, target, 0, n-1)\n",
    "\n",
    "if result == None:\n",
    "    print('No 원소')\n",
    "else:\n",
    "    print(result + 1)\n",
    "    \n",
    "        "
   ]
  },
  {
   "cell_type": "markdown",
   "id": "68dcf99c-3eaa-4593-a780-7746e323a1ea",
   "metadata": {},
   "source": [
    "#### 빠르게 입력하기"
   ]
  },
  {
   "cell_type": "code",
   "execution_count": 20,
   "id": "7dbfb34b-710a-4fbc-a8b2-16ee4a801e38",
   "metadata": {},
   "outputs": [
    {
     "name": "stdout",
     "output_type": "stream",
     "text": [
      "\n"
     ]
    }
   ],
   "source": [
    "import sys\n",
    "\n",
    "input_data = sys.stdin.readline().rstrip()\n",
    "\n",
    "print(input_data)"
   ]
  },
  {
   "cell_type": "markdown",
   "id": "01aa36fd-0c1c-4ba2-b562-1369fe810e20",
   "metadata": {},
   "source": [
    "### 정렬 : 부품 찾기"
   ]
  },
  {
   "cell_type": "markdown",
   "id": "81371044-a035-49f3-a201-7731ae77100f",
   "metadata": {},
   "source": [
    "#### 이진탐색"
   ]
  },
  {
   "cell_type": "code",
   "execution_count": 21,
   "id": "b3410bbe-840f-4748-ae5b-1619e53d254b",
   "metadata": {},
   "outputs": [
    {
     "name": "stdin",
     "output_type": "stream",
     "text": [
      " 5\n",
      " 8 3 7 9 2\n",
      " 3\n",
      " 5 7 9\n"
     ]
    },
    {
     "name": "stdout",
     "output_type": "stream",
     "text": [
      "no yes yes "
     ]
    }
   ],
   "source": [
    "def binary_search(array, target, start, end):\n",
    "    while start <= end:\n",
    "        mid = (start + end) // 2\n",
    "        if array[mid] == target:\n",
    "            return mid\n",
    "\n",
    "        elif array[mid] > target:\n",
    "            end = mid - 1\n",
    "            \n",
    "        else:\n",
    "            start = mid + 1\n",
    "\n",
    "    return None\n",
    "\n",
    "n = int(input())\n",
    "array = list(map(int, input().split()))\n",
    "array.sort() # 이진탐색을 위해 정렬을 미리 해놓음\n",
    "\n",
    "m = int(input())\n",
    "x = list(map(int, input().split()))\n",
    "\n",
    "for i in x:\n",
    "    result = binary_search(array, i , 0, n-1)\n",
    "    if result != None:\n",
    "        print('yes', end = ' ')\n",
    "\n",
    "    else: \n",
    "        print('no', end = ' ')"
   ]
  },
  {
   "cell_type": "markdown",
   "id": "14958afe-5187-4d78-a48d-ca9f0ca56fa6",
   "metadata": {},
   "source": [
    "#### 계수정렬"
   ]
  },
  {
   "cell_type": "code",
   "execution_count": 24,
   "id": "0ad8c1fe-53a6-4b0d-b1af-39b5ee8ddf37",
   "metadata": {},
   "outputs": [
    {
     "name": "stdin",
     "output_type": "stream",
     "text": [
      " 5\n",
      " 8 3 7 9 2\n",
      " 3\n",
      " 5 7 1\n"
     ]
    },
    {
     "name": "stdout",
     "output_type": "stream",
     "text": [
      "no yes no "
     ]
    }
   ],
   "source": [
    "n = int(input())\n",
    "array = [0] * 1000001\n",
    "\n",
    "for i in input().split(): # 1000000개의 배열에서 자신의 위치를 찾아 1을 기록\n",
    "    array[int(i)] = 1 # 몇개가 있는지가 아니라 단순히 있는지 없는지만 기록하면 되므로 += 1이 아니라 = 1로 코드 작성\n",
    "\n",
    "m = int(input())\n",
    "x = list(map(int, input().split()))\n",
    "\n",
    "for i in x:\n",
    "    if array[i] == 1:\n",
    "        print('yes', end = ' ')\n",
    "\n",
    "    else:\n",
    "        print('no', end = ' ')"
   ]
  },
  {
   "cell_type": "markdown",
   "id": "420c731e-0741-4cf0-905a-f4c6fd1630ed",
   "metadata": {},
   "source": [
    "#### 집합 자료형"
   ]
  },
  {
   "cell_type": "code",
   "execution_count": 25,
   "id": "251871ca-1c74-4bed-909b-fbfa27fc8713",
   "metadata": {},
   "outputs": [
    {
     "name": "stdin",
     "output_type": "stream",
     "text": [
      " 5\n",
      " 8 3 7 9 2\n",
      " 3\n",
      " 5 4 1\n"
     ]
    },
    {
     "name": "stdout",
     "output_type": "stream",
     "text": [
      "no no no "
     ]
    }
   ],
   "source": [
    "n = int(input())\n",
    "\n",
    "array = list(map(int, input().split()))\n",
    "\n",
    "m = int(input())\n",
    "x = list(map(int, input().split()))\n",
    "\n",
    "for i in x:\n",
    "    if i in array:\n",
    "        print('yes', end = ' ')\n",
    "\n",
    "    else:\n",
    "        print('no', end = ' ')\n",
    "             "
   ]
  },
  {
   "cell_type": "markdown",
   "id": "8442b8b5-945b-454e-8fd2-b9c0898ba263",
   "metadata": {},
   "source": [
    "### 정렬 : 떡볶이 떡 만들기"
   ]
  },
  {
   "cell_type": "code",
   "execution_count": 27,
   "id": "b67be36d-be3d-4b08-9272-44ba9c58762b",
   "metadata": {},
   "outputs": [
    {
     "name": "stdin",
     "output_type": "stream",
     "text": [
      " 4 6\n",
      " 19 15 10 17\n"
     ]
    },
    {
     "name": "stdout",
     "output_type": "stream",
     "text": [
      "15\n"
     ]
    }
   ],
   "source": [
    "n, m = list(map(int, input().split()))\n",
    "array = list(map(int, input().split()))\n",
    "\n",
    "start = 0\n",
    "end = max(array)\n",
    "\n",
    "result = 0\n",
    "while(start <= end):\n",
    "    total = 0\n",
    "    mid = (start + end)//2\n",
    "    for x in array:\n",
    "        if x > mid:\n",
    "            total += x - mid\n",
    "    if total < m:\n",
    "        end = mid - 1\n",
    "\n",
    "    else:\n",
    "        result = mid\n",
    "        start = mid + 1\n",
    "\n",
    "print(result)"
   ]
  },
  {
   "cell_type": "markdown",
   "id": "ca9ac761-fdd1-49ee-980a-59ba11bfbb58",
   "metadata": {},
   "source": [
    "### 다이나믹 프로그래밍 : 1로 만들기"
   ]
  },
  {
   "cell_type": "code",
   "execution_count": 3,
   "id": "81edc401-cbca-4fdf-92dd-6725214a3a6b",
   "metadata": {},
   "outputs": [
    {
     "name": "stdin",
     "output_type": "stream",
     "text": [
      " 26\n"
     ]
    },
    {
     "name": "stdout",
     "output_type": "stream",
     "text": [
      "3\n"
     ]
    }
   ],
   "source": [
    "x = int(input())\n",
    "\n",
    "d = [0] * 30001\n",
    "for i in range(2, x+1):\n",
    "    d[i] = d[i-1] + 1\n",
    "    if i % 2 == 0:\n",
    "        d[i] = min(d[i], d[i//2]+1)\n",
    "\n",
    "    if i %3 == 0:\n",
    "        d[i] = min(d[i], d[i//3] + 1)\n",
    "\n",
    "    if i % 5 == 0:\n",
    "        d[i] = min(d[i], d[i//5] + 1)\n",
    "\n",
    "print(d[x])\n"
   ]
  },
  {
   "cell_type": "markdown",
   "id": "f9b123a8-307d-4ee1-bd26-6ff6ed175bb3",
   "metadata": {},
   "source": [
    "### 다이나믹 프로그래밍 : 개미 전사"
   ]
  },
  {
   "cell_type": "code",
   "execution_count": 6,
   "id": "746b863a-e70a-49ba-b291-5ae2387b38ba",
   "metadata": {},
   "outputs": [
    {
     "name": "stdin",
     "output_type": "stream",
     "text": [
      " 4\n",
      " 1 3 1 5\n"
     ]
    },
    {
     "name": "stdout",
     "output_type": "stream",
     "text": [
      "8\n"
     ]
    }
   ],
   "source": [
    "n = int(input())\n",
    "array = list(map(int, input().split()))\n",
    "\n",
    "d = [0] * 100\n",
    "\n",
    "d[0] = array[0] # 1\n",
    "d[1] = array[1] # 3\n",
    "\n",
    "for i in range(2, n):\n",
    "    d[i] = max(d[i-1] , d[i-2] + array[i])\n",
    "    \n",
    "# d[2] = max(d[1], d[0] + array[2])\n",
    "# d[2] = max(3, 1 + 1)\n",
    "# d[2] = 3\n",
    "\n",
    "# d[3] = max(d[2], d[1] + array[3])\n",
    "# d[3] = max(3, 3 + 5)\n",
    "# d[3] = 8\n",
    "\n",
    "print(d[n-1])"
   ]
  },
  {
   "cell_type": "markdown",
   "id": "8ad10c13-0403-486a-ad6b-75902f48fa20",
   "metadata": {},
   "source": [
    "### 다이내믹 프로그램 : 바닥공사"
   ]
  },
  {
   "cell_type": "code",
   "execution_count": 9,
   "id": "2f2e930a-63e9-4027-ba43-a24c47f03c2f",
   "metadata": {},
   "outputs": [
    {
     "name": "stdin",
     "output_type": "stream",
     "text": [
      " 3\n"
     ]
    },
    {
     "name": "stdout",
     "output_type": "stream",
     "text": [
      "5\n"
     ]
    }
   ],
   "source": [
    "n = int(input())\n",
    "\n",
    "d = [0] * 1001\n",
    "\n",
    "d[1] = 1\n",
    "d[2] = 3\n",
    "\n",
    "for i in range(3, n+1):\n",
    "    d[i] = (d[i-1] + 2*d[i-2])%796796\n",
    "# d[3] = (d[2] + 2*d[1])\n",
    "# d[3] = (3 + 2)\n",
    "\n",
    "print(d[n])"
   ]
  },
  {
   "cell_type": "markdown",
   "id": "983c0049-db81-4ee1-9ca5-f2f26e92037b",
   "metadata": {},
   "source": [
    "### 다이내믹 프로그래밍 : 효율적인 화폐구성"
   ]
  },
  {
   "cell_type": "code",
   "execution_count": 11,
   "id": "29993b18-ed24-4fc9-88d9-813592486365",
   "metadata": {},
   "outputs": [
    {
     "name": "stdin",
     "output_type": "stream",
     "text": [
      " 3 7\n",
      " 2\n",
      " 3\n",
      " 5\n"
     ]
    },
    {
     "name": "stdout",
     "output_type": "stream",
     "text": [
      "2\n"
     ]
    }
   ],
   "source": [
    "n, m = map(int, input().split())\n",
    "\n",
    "array = []\n",
    "for i in range(n):\n",
    "    array.append(int(input()))\n",
    "\n",
    "d = [10001] * (m + 1)\n",
    "\n",
    "d[0] = 0\n",
    "for i in range(n):\n",
    "    for j in range(array[i], m + 1):\n",
    "        if d[j-array[i]] != 10001:\n",
    "            d[j] = min(d[j], d[j-array[i]] + 1)\n",
    "\n",
    "if d[m] == 10001:\n",
    "    print(-1)\n",
    "\n",
    "else:\n",
    "    print(d[m])"
   ]
  },
  {
   "cell_type": "markdown",
   "id": "e3c093b0-5acd-43f1-9e87-3874527e14b9",
   "metadata": {},
   "source": [
    "### 최단경로 : 다익스트라 알고리즘"
   ]
  },
  {
   "cell_type": "code",
   "execution_count": 12,
   "id": "6df14409-5e8b-4c39-b1ad-97fd7ab1b3c8",
   "metadata": {},
   "outputs": [
    {
     "ename": "ValueError",
     "evalue": "not enough values to unpack (expected 2, got 0)",
     "output_type": "error",
     "traceback": [
      "\u001b[0;31m---------------------------------------------------------------------------\u001b[0m",
      "\u001b[0;31mValueError\u001b[0m                                Traceback (most recent call last)",
      "Cell \u001b[0;32mIn[12], line 4\u001b[0m\n\u001b[1;32m      1\u001b[0m \u001b[38;5;28minput\u001b[39m \u001b[38;5;241m=\u001b[39m sys\u001b[38;5;241m.\u001b[39mstdin\u001b[38;5;241m.\u001b[39mreadline\n\u001b[1;32m      2\u001b[0m INF \u001b[38;5;241m=\u001b[39m \u001b[38;5;28mint\u001b[39m(\u001b[38;5;241m1e9\u001b[39m)\n\u001b[0;32m----> 4\u001b[0m n, m \u001b[38;5;241m=\u001b[39m \u001b[38;5;28mmap\u001b[39m(\u001b[38;5;28mint\u001b[39m, \u001b[38;5;28minput\u001b[39m()\u001b[38;5;241m.\u001b[39msplit())  \u001b[38;5;66;03m# 노드의 개수, 간선의 개수\u001b[39;00m\n\u001b[1;32m      6\u001b[0m start \u001b[38;5;241m=\u001b[39m \u001b[38;5;28mint\u001b[39m(\u001b[38;5;28minput\u001b[39m())\n\u001b[1;32m      7\u001b[0m graph \u001b[38;5;241m=\u001b[39m [[] \u001b[38;5;28;01mfor\u001b[39;00m i \u001b[38;5;129;01min\u001b[39;00m \u001b[38;5;28mrange\u001b[39m(n\u001b[38;5;241m+\u001b[39m\u001b[38;5;241m1\u001b[39m)]\n",
      "\u001b[0;31mValueError\u001b[0m: not enough values to unpack (expected 2, got 0)"
     ]
    }
   ],
   "source": [
    "import sys\n",
    "input = sys.stdin.readline\n",
    "INF = int(1e9)\n",
    "\n",
    "n, m = map(int, input().split())  # 노드의 개수, 간선의 개수\n",
    "\n",
    "start = int(input())\n",
    "graph = [[] for i in range(n+1)]"
   ]
  },
  {
   "cell_type": "code",
   "execution_count": null,
   "id": "67ad2bd9-57fc-4d08-a1fe-098becb1d57d",
   "metadata": {},
   "outputs": [],
   "source": []
  }
 ],
 "metadata": {
  "kernelspec": {
   "display_name": "Python 3 (ipykernel)",
   "language": "python",
   "name": "python3"
  },
  "language_info": {
   "codemirror_mode": {
    "name": "ipython",
    "version": 3
   },
   "file_extension": ".py",
   "mimetype": "text/x-python",
   "name": "python",
   "nbconvert_exporter": "python",
   "pygments_lexer": "ipython3",
   "version": "3.10.6"
  }
 },
 "nbformat": 4,
 "nbformat_minor": 5
}
