{
 "cells": [
  {
   "cell_type": "markdown",
   "id": "56d55fbb",
   "metadata": {},
   "source": [
    "# 시간복잡도"
   ]
  },
  {
   "cell_type": "markdown",
   "id": "31dbe90c",
   "metadata": {},
   "source": [
    "##### O(N)"
   ]
  },
  {
   "cell_type": "code",
   "execution_count": 2,
   "id": "cc713528",
   "metadata": {},
   "outputs": [
    {
     "name": "stdout",
     "output_type": "stream",
     "text": [
      "15\n"
     ]
    }
   ],
   "source": [
    "array = [3, 5, 1, 2, 4]\n",
    "summary = 0\n",
    "\n",
    "for x in array:\n",
    "    summary += x\n",
    "    \n",
    "print(summary)"
   ]
  },
  {
   "cell_type": "markdown",
   "id": "6310ee72",
   "metadata": {},
   "source": [
    "##### O(N^2)"
   ]
  },
  {
   "cell_type": "code",
   "execution_count": 3,
   "id": "286d116a",
   "metadata": {},
   "outputs": [
    {
     "name": "stdout",
     "output_type": "stream",
     "text": [
      "9\n",
      "15\n",
      "3\n",
      "6\n",
      "12\n",
      "15\n",
      "25\n",
      "5\n",
      "10\n",
      "20\n",
      "3\n",
      "5\n",
      "1\n",
      "2\n",
      "4\n",
      "6\n",
      "10\n",
      "2\n",
      "4\n",
      "8\n",
      "12\n",
      "20\n",
      "4\n",
      "8\n",
      "16\n"
     ]
    }
   ],
   "source": [
    "# 25번 연산\n",
    "\n",
    "for i in array:\n",
    "    for j in array:\n",
    "        temp = i * j\n",
    "        print(temp)"
   ]
  },
  {
   "cell_type": "code",
   "execution_count": null,
   "id": "25b3c24d",
   "metadata": {},
   "outputs": [],
   "source": []
  }
 ],
 "metadata": {
  "kernelspec": {
   "display_name": "Python 3 (ipykernel)",
   "language": "python",
   "name": "python3"
  },
  "language_info": {
   "codemirror_mode": {
    "name": "ipython",
    "version": 3
   },
   "file_extension": ".py",
   "mimetype": "text/x-python",
   "name": "python",
   "nbconvert_exporter": "python",
   "pygments_lexer": "ipython3",
   "version": "3.9.12"
  }
 },
 "nbformat": 4,
 "nbformat_minor": 5
}
