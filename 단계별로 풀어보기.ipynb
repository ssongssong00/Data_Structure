{
 "cells": [
  {
   "cell_type": "markdown",
   "id": "cc6a685d",
   "metadata": {},
   "source": [
    "# 1-1 단계\n",
    "Hello World!를 출력하시오.\n",
    "\n"
   ]
  },
  {
   "cell_type": "code",
   "execution_count": 4,
   "id": "bf5aa5b8",
   "metadata": {},
   "outputs": [
    {
     "name": "stdout",
     "output_type": "stream",
     "text": [
      "Hello World!\n"
     ]
    }
   ],
   "source": [
    "print(\"Hello World!\")"
   ]
  },
  {
   "cell_type": "markdown",
   "id": "32adef3f",
   "metadata": {},
   "source": [
    "# 1-2 단계\n",
    "두 정수 A와 B를 입력받은 다음, A+B를 출력하는 프로그램을 작성하시오.\n",
    "\n",
    "```python\n",
    "map(function, iterable)\n",
    "```\n",
    "\n"
   ]
  },
  {
   "cell_type": "code",
   "execution_count": 5,
   "id": "469dc817",
   "metadata": {
    "scrolled": true
   },
   "outputs": [
    {
     "name": "stdout",
     "output_type": "stream",
     "text": [
      "1 2\n",
      "3\n"
     ]
    }
   ],
   "source": [
    "a, b = map(int, input().split())\n",
    "print(a+b)"
   ]
  },
  {
   "cell_type": "markdown",
   "id": "62b95454",
   "metadata": {},
   "source": [
    "# 1-3 단계\n",
    "두 정수 A와 B를 입력받은 다음, A-B를 출력하는 프로그램을 작성하시오.\n",
    "\n"
   ]
  },
  {
   "cell_type": "code",
   "execution_count": 1,
   "id": "db9e4b28",
   "metadata": {},
   "outputs": [
    {
     "name": "stdout",
     "output_type": "stream",
     "text": [
      "1 2\n",
      "-1\n"
     ]
    }
   ],
   "source": [
    "a, b = map(int, input().split())\n",
    "print(a-b)"
   ]
  },
  {
   "cell_type": "markdown",
   "id": "42a0375a",
   "metadata": {},
   "source": [
    "# 1-4 단계\n",
    "두 정수 A와 B를 입력받은 다음, A×B를 출력하는 프로그램을 작성하시오.\n",
    "\n",
    "   \n",
    " "
   ]
  },
  {
   "cell_type": "code",
   "execution_count": 1,
   "id": "8233c86f",
   "metadata": {},
   "outputs": [
    {
     "name": "stdout",
     "output_type": "stream",
     "text": [
      "1 2\n",
      "2\n"
     ]
    }
   ],
   "source": [
    "a, b = map(int, input().split())\n",
    "print(a*b)"
   ]
  },
  {
   "cell_type": "markdown",
   "id": "8194502e",
   "metadata": {},
   "source": [
    "# 1-5 단계\n",
    "두 정수 A와 B를 입력받은 다음, A/B를 출력하는 프로그램을 작성하시오.\n",
    "\n"
   ]
  },
  {
   "cell_type": "code",
   "execution_count": 3,
   "id": "4b6571c0",
   "metadata": {},
   "outputs": [
    {
     "name": "stdout",
     "output_type": "stream",
     "text": [
      "1 2\n",
      "0.5\n"
     ]
    }
   ],
   "source": [
    "a,b = map(int,input().split())\n",
    "print(a/b)"
   ]
  },
  {
   "cell_type": "markdown",
   "id": "f5403297",
   "metadata": {},
   "source": [
    "# 1-6 단계\n",
    "두 자연수 A와 B가 주어진다. 이때, A+B, A-B, A*B, A/B(몫), A%B(나머지)를 출력하는 프로그램을 작성하시오. \n",
    "\n",
    "\n",
    "```python\n",
    "자연수의 나머지이기 때문에 /가 아니라 //를 이용하여 연산한다.\n",
    "```"
   ]
  },
  {
   "cell_type": "code",
   "execution_count": 12,
   "id": "33c93200",
   "metadata": {},
   "outputs": [
    {
     "name": "stdout",
     "output_type": "stream",
     "text": [
      "1 2\n",
      "3\n",
      "-1\n",
      "2\n",
      "0\n",
      "1\n"
     ]
    }
   ],
   "source": [
    "a, b = map(int,input().split())\n",
    "print(a+b)\n",
    "print(a-b)\n",
    "print(a*b)\n",
    "print(a//b)\n",
    "print(a%b)"
   ]
  },
  {
   "cell_type": "markdown",
   "id": "f726cba3",
   "metadata": {},
   "source": [
    "# 1-7 단계\n",
    "준하는 사이트에 회원가입을 하다가 joonas라는 아이디가 이미 존재하는 것을 보고 놀랐다. 준하는 놀람을 ??!로 표현한다. 준하가 가입하려고 하는 사이트에 이미 존재하는 아이디가 주어졌을 때, 놀람을 표현하는 프로그램을 작성하시오.\n",
    "\n"
   ]
  },
  {
   "cell_type": "code",
   "execution_count": 16,
   "id": "f19b54ad",
   "metadata": {},
   "outputs": [
    {
     "name": "stdout",
     "output_type": "stream",
     "text": [
      "baekjoon\n",
      "baekjoon??!\n"
     ]
    }
   ],
   "source": [
    "id = input()\n",
    "print(id+\"??!\")"
   ]
  },
  {
   "cell_type": "markdown",
   "id": "81c23193",
   "metadata": {},
   "source": [
    "# 1-8 단계\n",
    "ICPC Bangkok Regional에 참가하기 위해 수완나품 국제공항에 막 도착한 팀 레드시프트 일행은 눈을 믿을 수 없었다. 공항의 대형 스크린에 올해가 2562년이라고 적혀 있던 것이었다.\n",
    "\n",
    "불교 국가인 태국은 불멸기원(佛滅紀元), 즉 석가모니가 열반한 해를 기준으로 연도를 세는 불기를 사용한다. 반면, 우리나라는 서기 연도를 사용하고 있다. 불기 연도가 주어질 때 이를 서기 연도로 바꿔 주는 프로그램을 작성하시오.\n",
    "\n"
   ]
  },
  {
   "cell_type": "code",
   "execution_count": 18,
   "id": "d8a6a2ba",
   "metadata": {},
   "outputs": [
    {
     "name": "stdout",
     "output_type": "stream",
     "text": [
      "2541\n",
      "1998\n"
     ]
    }
   ],
   "source": [
    "y1 = int(input())\n",
    "print(y1-543)"
   ]
  },
  {
   "cell_type": "markdown",
   "id": "8a60065b",
   "metadata": {},
   "source": [
    "# 1-9 단계\n",
    "\n",
    "(A+B)%C는 ((A%C) + (B%C))%C 와 같을까?\n",
    "\n",
    "(A×B)%C는 ((A%C) × (B%C))%C 와 같을까?\n",
    "\n",
    "세 수 A, B, C가 주어졌을 때, 위의 네 가지 값을 구하는 프로그램을 작성하시오."
   ]
  },
  {
   "cell_type": "code",
   "execution_count": 28,
   "id": "21809eff",
   "metadata": {},
   "outputs": [
    {
     "name": "stdout",
     "output_type": "stream",
     "text": [
      "1 2 3\n",
      "0\n",
      "0\n",
      "2\n",
      "2\n"
     ]
    }
   ],
   "source": [
    "a, b, c = map(int,input().split())\n",
    "print((a+b)%c)\n",
    "print(((a%c)+(b%c))%c)\n",
    "print((a*b)%c)\n",
    "print(((a%c)*(b%c))%c)"
   ]
  },
  {
   "cell_type": "markdown",
   "id": "7f5efd7f",
   "metadata": {},
   "source": [
    "# 1-10 단계\n",
    "\n",
    "입력 형식에 따라 함수를 사용해 한꺼번에 입력 받거나 따로따로 입력 받아야 함."
   ]
  },
  {
   "cell_type": "code",
   "execution_count": 12,
   "id": "a17fb136",
   "metadata": {},
   "outputs": [
    {
     "name": "stdout",
     "output_type": "stream",
     "text": [
      "472\n",
      "385\n",
      "2360\n",
      "3776\n",
      "1416\n",
      "181720\n"
     ]
    }
   ],
   "source": [
    "a = int(input())\n",
    "b = int(input())\n",
    "\n",
    "b_list = list(map(int,str(b)))\n",
    "print(a*int(b_list[2]))\n",
    "print(a*int(b_list[1]))\n",
    "print(a*int(b_list[0]))\n",
    "print(a*b)"
   ]
  },
  {
   "cell_type": "markdown",
   "id": "83673dde",
   "metadata": {},
   "source": [
    "# 1-11 단계"
   ]
  },
  {
   "cell_type": "code",
   "execution_count": 14,
   "id": "f531219e",
   "metadata": {},
   "outputs": [
    {
     "name": "stdout",
     "output_type": "stream",
     "text": [
      "7 77 777\n",
      "861\n"
     ]
    }
   ],
   "source": [
    "a, b, c = map(int, input().split())\n",
    "print(a+b+c)"
   ]
  },
  {
   "cell_type": "markdown",
   "id": "4c83ffe8",
   "metadata": {},
   "source": [
    "# 1-12 단계"
   ]
  },
  {
   "cell_type": "code",
   "execution_count": 23,
   "id": "7df37a7b",
   "metadata": {},
   "outputs": [
    {
     "name": "stdout",
     "output_type": "stream",
     "text": [
      "\\    /\\ \n",
      " )  ( ')\n",
      "(  /  )\n",
      " \\(__)|\n"
     ]
    }
   ],
   "source": [
    "print(\"\\    /\\ \") \n",
    "print(\" )  ( ')\") \n",
    "print(\"(  /  )\") \n",
    "print(\" \\(__)|\") \n"
   ]
  },
  {
   "cell_type": "markdown",
   "id": "98a94b66",
   "metadata": {},
   "source": [
    "# 1-13 단계"
   ]
  },
  {
   "cell_type": "code",
   "execution_count": 11,
   "id": "643ad2b4",
   "metadata": {
    "scrolled": true
   },
   "outputs": [
    {
     "name": "stdout",
     "output_type": "stream",
     "text": [
      "|\\_/|\n",
      "|q p|   /}\n",
      "( 0 )\"\"\"\\ \n",
      "|\"^\"`    |\n",
      "||_/=\\\\__|\n"
     ]
    }
   ],
   "source": [
    "print(\"|\\_/|\")\n",
    "print(\"|q p|   /}\")\n",
    "print('( 0 )\"\"\"\\ ')\n",
    "print('|\"^\"`    |')\n",
    "print(\"||_/=\\\\\\__|\")"
   ]
  },
  {
   "cell_type": "markdown",
   "id": "4e09032f",
   "metadata": {},
   "source": [
    "# 2-1 단계"
   ]
  },
  {
   "cell_type": "code",
   "execution_count": 16,
   "id": "1629f2d0",
   "metadata": {},
   "outputs": [
    {
     "name": "stdout",
     "output_type": "stream",
     "text": [
      "1 1\n",
      "==\n"
     ]
    }
   ],
   "source": [
    "a, b = map(int, input().split())\n",
    "\n",
    "if a > b:\n",
    "    print(\">\")\n",
    "elif a < b:\n",
    "    print(\"<\")\n",
    "else:\n",
    "    print(\"==\")"
   ]
  },
  {
   "cell_type": "markdown",
   "id": "deae0f73",
   "metadata": {},
   "source": [
    "# 2-2 단계"
   ]
  },
  {
   "cell_type": "code",
   "execution_count": 24,
   "id": "65677dae",
   "metadata": {},
   "outputs": [
    {
     "name": "stdout",
     "output_type": "stream",
     "text": [
      "101\n",
      "B\n"
     ]
    }
   ],
   "source": [
    "s = int(input())\n",
    "if 90 <= s <= 100:\n",
    "    print(\"A\")\n",
    "elif 80 <= s:\n",
    "    print(\"B\")\n",
    "elif 70 <= s:\n",
    "    print(\"C\")\n",
    "elif 60 <= s:\n",
    "    print(\"D\")\n",
    "else:\n",
    "    print(\"F\")"
   ]
  },
  {
   "cell_type": "code",
   "execution_count": 26,
   "id": "ca29b7b3",
   "metadata": {},
   "outputs": [
    {
     "name": "stdout",
     "output_type": "stream",
     "text": [
      "23\n",
      "F\n"
     ]
    }
   ],
   "source": [
    "# 숏코딩\n",
    "print('FFFFFFDCBAA'[int(input())//10])"
   ]
  },
  {
   "cell_type": "markdown",
   "id": "ca2466ed",
   "metadata": {},
   "source": [
    "# 2-3 단계"
   ]
  },
  {
   "cell_type": "code",
   "execution_count": 32,
   "id": "c20016a6",
   "metadata": {},
   "outputs": [
    {
     "name": "stdout",
     "output_type": "stream",
     "text": [
      "1999\n",
      "0\n"
     ]
    }
   ],
   "source": [
    "y = int(input())\n",
    "if (y % 4 == 0) and (y % 100 != 0) or (y % 400 == 0):\n",
    "    print(1)\n",
    "else:\n",
    "    print(0)"
   ]
  },
  {
   "cell_type": "code",
   "execution_count": 37,
   "id": "bbc068de",
   "metadata": {},
   "outputs": [
    {
     "name": "stdout",
     "output_type": "stream",
     "text": [
      "200\n",
      "0\n"
     ]
    }
   ],
   "source": [
    "# 비트 연산\n",
    "n=int(input())\n",
    "print(+(n&-n>3|8>>n%50))"
   ]
  },
  {
   "cell_type": "markdown",
   "id": "7a2835f0",
   "metadata": {},
   "source": [
    "# 2-4 단계"
   ]
  },
  {
   "cell_type": "code",
   "execution_count": 40,
   "id": "ab145d1c",
   "metadata": {},
   "outputs": [
    {
     "name": "stdout",
     "output_type": "stream",
     "text": [
      "2\n",
      "-21\n",
      "4\n"
     ]
    }
   ],
   "source": [
    "x = int(input())\n",
    "y = int(input())\n",
    "\n",
    "if x > 0 and y > 0:\n",
    "    print(1)\n",
    "elif x < 0 and y > 0:\n",
    "    print(2)\n",
    "elif x < 0 and y < 0:\n",
    "    print(3)\n",
    "elif x > 0 and y < 0:\n",
    "    print(4)"
   ]
  },
  {
   "cell_type": "code",
   "execution_count": 49,
   "id": "512397d0",
   "metadata": {
    "scrolled": true
   },
   "outputs": [
    {
     "name": "stdout",
     "output_type": "stream",
     "text": [
      "-1\n",
      "2\n",
      "2\n"
     ]
    }
   ],
   "source": [
    "# 숏코딩\n",
    "print(\"3421\"[input()>\"0\"::2][input()>\"0\"])"
   ]
  },
  {
   "cell_type": "markdown",
   "id": "a1b2408a",
   "metadata": {},
   "source": [
    "# 2-5 단계"
   ]
  },
  {
   "cell_type": "code",
   "execution_count": 15,
   "id": "51886ec9",
   "metadata": {},
   "outputs": [
    {
     "name": "stdout",
     "output_type": "stream",
     "text": [
      "0 20\n",
      "23 35\n"
     ]
    }
   ],
   "source": [
    "a, b = map(int, input().split())\n",
    "\n",
    "if b >= 45:\n",
    "    print(a, b-45)\n",
    "\n",
    "elif a != 0 and b < 45:\n",
    "    print(a-1, 60 + (b-45))\n",
    "\n",
    "elif a == 0 and b < 45:\n",
    "    print(23, 60 + (b-45))"
   ]
  },
  {
   "cell_type": "code",
   "execution_count": 16,
   "id": "11bb24af",
   "metadata": {},
   "outputs": [
    {
     "name": "stdout",
     "output_type": "stream",
     "text": [
      "10 50\n",
      "10 5\n"
     ]
    }
   ],
   "source": [
    "# 숏코딩\n",
    "a,b=map(int,input().split())\n",
    "print((a-(b<45))%24,(b-45)%60)"
   ]
  },
  {
   "cell_type": "code",
   "execution_count": 20,
   "id": "663de18a",
   "metadata": {},
   "outputs": [
    {
     "data": {
      "text/plain": [
       "23"
      ]
     },
     "execution_count": 20,
     "metadata": {},
     "output_type": "execute_result"
    }
   ],
   "source": [
    "-1 % 24"
   ]
  },
  {
   "cell_type": "markdown",
   "id": "3d98b9c2",
   "metadata": {},
   "source": [
    "# 2-6 단계"
   ]
  },
  {
   "cell_type": "code",
   "execution_count": 3,
   "id": "df8abae9",
   "metadata": {},
   "outputs": [
    {
     "name": "stdout",
     "output_type": "stream",
     "text": [
      "22 59\n",
      "1000\n",
      "15 39\n"
     ]
    }
   ],
   "source": [
    "a, b = map(int, input().split())\n",
    "t = int(input())\n",
    "\n",
    "if b + t < 60:\n",
    "    print(a, b+t)\n",
    "\n",
    "else:\n",
    "    if a == 23:\n",
    "        print(0, (b+t) % 60)\n",
    "    else:\n",
    "        print((a + (b+t) // 60) % 24, (b+t) % 60)"
   ]
  },
  {
   "cell_type": "markdown",
   "id": "efb750b2",
   "metadata": {},
   "source": [
    "# 2-7 단계"
   ]
  },
  {
   "cell_type": "code",
   "execution_count": 16,
   "id": "166117bd",
   "metadata": {},
   "outputs": [
    {
     "name": "stdout",
     "output_type": "stream",
     "text": [
      "2 2 1\n",
      "1200\n"
     ]
    }
   ],
   "source": [
    "a, b, c = map(int, input().split())\n",
    "\n",
    "if a == b and b == c:\n",
    "    print(10000+a*1000)\n",
    "\n",
    "elif a == b:\n",
    "    print(1000+a*100)\n",
    "elif b == c:\n",
    "    print(1000+b*100)\n",
    "elif c == a:\n",
    "    print(1000+c*100)\n",
    "    \n",
    "else:\n",
    "    if a > b > c or a > c > b:\n",
    "        print(a*100)\n",
    "    elif b > a > c or b > c > a:\n",
    "        print(b*100)\n",
    "    elif c > a > b or c > b > a:\n",
    "        print(c*100)"
   ]
  },
  {
   "cell_type": "code",
   "execution_count": 14,
   "id": "697dc5a5",
   "metadata": {},
   "outputs": [
    {
     "name": "stdout",
     "output_type": "stream",
     "text": [
      "2 1 2\n",
      "1200\n"
     ]
    }
   ],
   "source": [
    "# sort 이용\n",
    "a, b, c = sorted(map(int, input().split()))\n",
    "\n",
    "if a==b==c:\n",
    "    print(10000+a*1000)\n",
    "elif a==b or b==c:\n",
    "    print(1000+b*100)\n",
    "else:\n",
    "    print(c*100)"
   ]
  },
  {
   "cell_type": "markdown",
   "id": "db5cd4ef",
   "metadata": {},
   "source": [
    "# 3-1 단계"
   ]
  },
  {
   "cell_type": "code",
   "execution_count": 26,
   "id": "77571204",
   "metadata": {},
   "outputs": [
    {
     "name": "stdout",
     "output_type": "stream",
     "text": [
      "2\n",
      "2 * 1 = 2\n",
      "2 * 2 = 4\n",
      "2 * 3 = 6\n",
      "2 * 4 = 8\n",
      "2 * 5 = 10\n",
      "2 * 6 = 12\n",
      "2 * 7 = 14\n",
      "2 * 8 = 16\n",
      "2 * 9 = 18\n"
     ]
    }
   ],
   "source": [
    "n = int(input())\n",
    "\n",
    "for i in range(1,10):\n",
    "    print(n,\"*\",i, \"=\",n*i)"
   ]
  },
  {
   "cell_type": "markdown",
   "id": "61b82b84",
   "metadata": {},
   "source": [
    "# 3-2 단계"
   ]
  },
  {
   "cell_type": "code",
   "execution_count": 28,
   "id": "934ecc1f",
   "metadata": {},
   "outputs": [
    {
     "name": "stdout",
     "output_type": "stream",
     "text": [
      "5\n",
      "1 1\n",
      "2\n",
      "2 3\n",
      "5\n",
      "3 4\n",
      "7\n",
      "10 7\n",
      "17\n",
      "5 2\n",
      "7\n"
     ]
    }
   ],
   "source": [
    "n = int(input())\n",
    "for i in range(n):\n",
    "    a, b = map(int, input().split())\n",
    "    print(a+b)"
   ]
  },
  {
   "cell_type": "markdown",
   "id": "f9ad22c5",
   "metadata": {},
   "source": [
    "# 3-3 단계"
   ]
  },
  {
   "cell_type": "code",
   "execution_count": null,
   "id": "1f2008d0",
   "metadata": {},
   "outputs": [],
   "source": [
    "# 문제를 잘 읽자..\n",
    "n = int(input())\n",
    "a = 0\n",
    "for i in range(1,n+1):\n",
    "    a += i\n",
    "print(a)\n"
   ]
  },
  {
   "cell_type": "markdown",
   "id": "97e15b6c",
   "metadata": {},
   "source": [
    "# 3-4 단계"
   ]
  },
  {
   "cell_type": "code",
   "execution_count": null,
   "id": "a314c8d6",
   "metadata": {},
   "outputs": [],
   "source": []
  }
 ],
 "metadata": {
  "kernelspec": {
   "display_name": "Python 3 (ipykernel)",
   "language": "python",
   "name": "python3"
  },
  "language_info": {
   "codemirror_mode": {
    "name": "ipython",
    "version": 3
   },
   "file_extension": ".py",
   "mimetype": "text/x-python",
   "name": "python",
   "nbconvert_exporter": "python",
   "pygments_lexer": "ipython3",
   "version": "3.9.12"
  }
 },
 "nbformat": 4,
 "nbformat_minor": 5
}
