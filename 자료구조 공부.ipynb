{
 "cells": [
  {
   "cell_type": "markdown",
   "id": "f169356c",
   "metadata": {},
   "source": [
    "# 2023.03.13(월)\n",
    "\n",
    "1강 코딩테스트란 무엇인가  \n",
    "2강 알고리즘 성능 평가  \n",
    "3강 파이썬 문법 수 자료형  \n",
    "4강 파이썬 문법 리스트 자료형\n",
    "\n",
    "# 2023.03.14(화)\n",
    "5강 파이썬 문법 문자열, 튜플 자료형  \n",
    "6강 파이썬 문법 사전, 집합 자료형  \n",
    "7강 파이썬 문법 기본 입출력   \n",
    "8강 파이썬 조건문  \n",
    "9강 파이썬 반복문  "
   ]
  },
  {
   "cell_type": "markdown",
   "id": "5865bebc",
   "metadata": {},
   "source": [
    "--------"
   ]
  },
  {
   "cell_type": "markdown",
   "id": "ae1b7c7a",
   "metadata": {},
   "source": [
    "## 알고리즘 문제 해결 과정\n",
    "1. 지문 읽기 및 컴퓨터적 사고\n",
    "2. 요구사항(복잡도) 분석\n",
    "3. 문제 해결을 위한 **핵심 아이디어** 찾기\n",
    "4. 소스코드 설계 및 코딩"
   ]
  },
  {
   "cell_type": "markdown",
   "id": "60d75eda",
   "metadata": {},
   "source": [
    "### 시간복잡도"
   ]
  },
  {
   "cell_type": "markdown",
   "id": "bfe2c332",
   "metadata": {},
   "source": [
    "##### O(N)"
   ]
  },
  {
   "cell_type": "code",
   "execution_count": 2,
   "id": "8a2f1245",
   "metadata": {},
   "outputs": [
    {
     "name": "stdout",
     "output_type": "stream",
     "text": [
      "15\n"
     ]
    }
   ],
   "source": [
    "array = [3, 5, 1, 2, 4]\n",
    "summary = 0\n",
    "\n",
    "for x in array:\n",
    "    summary += x\n",
    "    \n",
    "print(summary)"
   ]
  },
  {
   "cell_type": "markdown",
   "id": "7386aaa6",
   "metadata": {},
   "source": [
    "##### O(N^2)"
   ]
  },
  {
   "cell_type": "code",
   "execution_count": 3,
   "id": "08ef885f",
   "metadata": {},
   "outputs": [
    {
     "name": "stdout",
     "output_type": "stream",
     "text": [
      "9\n",
      "15\n",
      "3\n",
      "6\n",
      "12\n",
      "15\n",
      "25\n",
      "5\n",
      "10\n",
      "20\n",
      "3\n",
      "5\n",
      "1\n",
      "2\n",
      "4\n",
      "6\n",
      "10\n",
      "2\n",
      "4\n",
      "8\n",
      "12\n",
      "20\n",
      "4\n",
      "8\n",
      "16\n"
     ]
    }
   ],
   "source": [
    "# 25번 연산\n",
    "\n",
    "for i in array:\n",
    "    for j in array:\n",
    "        temp = i * j\n",
    "        print(temp)"
   ]
  },
  {
   "cell_type": "markdown",
   "id": "4045f08f",
   "metadata": {},
   "source": [
    "### 수행 시간 측정"
   ]
  },
  {
   "cell_type": "code",
   "execution_count": 6,
   "id": "4a633530",
   "metadata": {},
   "outputs": [
    {
     "name": "stdout",
     "output_type": "stream",
     "text": [
      "9\n",
      "15\n",
      "3\n",
      "6\n",
      "12\n",
      "15\n",
      "25\n",
      "5\n",
      "10\n",
      "20\n",
      "3\n",
      "5\n",
      "1\n",
      "2\n",
      "4\n",
      "6\n",
      "10\n",
      "2\n",
      "4\n",
      "8\n",
      "12\n",
      "20\n",
      "4\n",
      "8\n",
      "16\n",
      "time:  0.0013408660888671875\n"
     ]
    }
   ],
   "source": [
    "import time\n",
    "start_time = time.time()\n",
    "\n",
    "for i in array:\n",
    "    for j in array:\n",
    "        temp = i * j\n",
    "        print(temp)\n",
    "        \n",
    "end_time = time.time()\n",
    "print(\"time: \", end_time - start_time)"
   ]
  },
  {
   "cell_type": "markdown",
   "id": "a47e205b",
   "metadata": {},
   "source": [
    "### 자료형\n",
    "1. 정수형\n",
    "2. 실수형\n",
    "3. 리스트\n",
    "4. 문자열 자료형\n",
    "5. 튜플(서로 다른 성질의 데이터를 묶어서 관리해야 할 때)\n",
    "6. 사전 자료형\n",
    "7. 집합 자료형"
   ]
  },
  {
   "cell_type": "markdown",
   "id": "74af93eb",
   "metadata": {},
   "source": [
    "리스트 컴프리헨션"
   ]
  },
  {
   "cell_type": "code",
   "execution_count": 2,
   "id": "b91a4aca",
   "metadata": {},
   "outputs": [
    {
     "name": "stdout",
     "output_type": "stream",
     "text": [
      "[0, 1, 2, 3, 4, 5, 6, 7, 8, 9]\n"
     ]
    }
   ],
   "source": [
    "array = [i for i in range(10)]\n",
    "print(array)"
   ]
  },
  {
   "cell_type": "code",
   "execution_count": 3,
   "id": "edeccdb6",
   "metadata": {},
   "outputs": [
    {
     "name": "stdout",
     "output_type": "stream",
     "text": [
      "[1, 3, 5, 7, 9, 11, 13, 15, 17]\n"
     ]
    }
   ],
   "source": [
    "# 0부터 19까지 수에서 홀수만 포함\n",
    "array = [i for i in range(19) if i % 2 == 1]\n",
    "print(array)"
   ]
  },
  {
   "cell_type": "code",
   "execution_count": 4,
   "id": "c05f402c",
   "metadata": {},
   "outputs": [
    {
     "name": "stdout",
     "output_type": "stream",
     "text": [
      "[[0, 0, 0], [0, 0, 0], [0, 0, 0], [0, 0, 0]]\n"
     ]
    }
   ],
   "source": [
    "n = 4\n",
    "m = 3\n",
    "array = [[0] * m for _ in range(n)]\n",
    "print(array)"
   ]
  },
  {
   "cell_type": "markdown",
   "id": "32e6e461",
   "metadata": {},
   "source": [
    "### 리스트 관련 기타 메서드\n",
    "1. append()\n",
    "2. sort()\n",
    "3. reverse()\n",
    "4. insert()\n",
    "5. count()\n",
    "6. remove()"
   ]
  },
  {
   "cell_type": "code",
   "execution_count": 6,
   "id": "baac53f9",
   "metadata": {},
   "outputs": [],
   "source": [
    "a = [1,4,3]\n",
    "a.append(2)"
   ]
  },
  {
   "cell_type": "markdown",
   "id": "21e5c65e",
   "metadata": {},
   "source": [
    "리스트에서 특정 값을 가지는 원소를 모두 제거하기"
   ]
  },
  {
   "cell_type": "code",
   "execution_count": 9,
   "id": "947dfc81",
   "metadata": {},
   "outputs": [
    {
     "name": "stdout",
     "output_type": "stream",
     "text": [
      "[1, 2, 4]\n"
     ]
    }
   ],
   "source": [
    "a = [1,2,3,4,5,5,5]\n",
    "remove_set = {3,5} # 존재 유무만 파악하는 집합자료형\n",
    "\n",
    "result = [i for i in a if i not in remove_set]\n",
    "print(result)"
   ]
  },
  {
   "cell_type": "code",
   "execution_count": 12,
   "id": "bf881ad6",
   "metadata": {},
   "outputs": [
    {
     "name": "stdout",
     "output_type": "stream",
     "text": [
      "Hello World\n"
     ]
    }
   ],
   "source": [
    "a = \"Hello\"\n",
    "b = \"World\"\n",
    "print(a + \" \" + b)"
   ]
  },
  {
   "cell_type": "code",
   "execution_count": 14,
   "id": "382ed3ef",
   "metadata": {},
   "outputs": [
    {
     "name": "stdout",
     "output_type": "stream",
     "text": [
      "{'홍길동': 96, '박성우': 100}\n"
     ]
    }
   ],
   "source": [
    "a = dict()\n",
    "a['홍길동'] = 96\n",
    "a['박성우'] = 100\n",
    "\n",
    "print(a)"
   ]
  },
  {
   "cell_type": "code",
   "execution_count": 16,
   "id": "d7cbdfce",
   "metadata": {},
   "outputs": [
    {
     "name": "stdout",
     "output_type": "stream",
     "text": [
      "{'홍길동': 97, '박성우': 100}\n"
     ]
    }
   ],
   "source": [
    "b = {\n",
    "    '홍길동' : 97,\n",
    "    '박성우' : 100\n",
    "}\n",
    "\n",
    "print(b)"
   ]
  },
  {
   "cell_type": "code",
   "execution_count": 17,
   "id": "056fce1a",
   "metadata": {},
   "outputs": [],
   "source": [
    "key_list = list(b.keys())"
   ]
  },
  {
   "cell_type": "code",
   "execution_count": 18,
   "id": "bcf0cb81",
   "metadata": {},
   "outputs": [
    {
     "name": "stdout",
     "output_type": "stream",
     "text": [
      "['홍길동', '박성우']\n"
     ]
    }
   ],
   "source": [
    "print(key_list)"
   ]
  },
  {
   "cell_type": "code",
   "execution_count": 19,
   "id": "15a71514",
   "metadata": {},
   "outputs": [
    {
     "name": "stdout",
     "output_type": "stream",
     "text": [
      "[97, 100]\n"
     ]
    }
   ],
   "source": [
    "value_list = list(b.values())\n",
    "print(value_list)"
   ]
  },
  {
   "cell_type": "code",
   "execution_count": 20,
   "id": "b9fc5909",
   "metadata": {},
   "outputs": [
    {
     "name": "stdout",
     "output_type": "stream",
     "text": [
      "5\n",
      "1 2 3 4 5\n",
      "5\n",
      "1 2 3 4 5\n"
     ]
    }
   ],
   "source": [
    "n = int(input())\n",
    "data = input()\n",
    "print(n)\n",
    "print(data)"
   ]
  },
  {
   "cell_type": "code",
   "execution_count": 21,
   "id": "fbfeeeaf",
   "metadata": {},
   "outputs": [
    {
     "name": "stdout",
     "output_type": "stream",
     "text": [
      "5\n",
      "1 2 3 4 5\n",
      "5\n",
      "['1', '2', '3', '4', '5']\n"
     ]
    }
   ],
   "source": [
    "n = int(input())\n",
    "data = input().split()\n",
    "print(n)\n",
    "print(data)"
   ]
  },
  {
   "cell_type": "code",
   "execution_count": 22,
   "id": "9d7977c0",
   "metadata": {},
   "outputs": [
    {
     "name": "stdout",
     "output_type": "stream",
     "text": [
      "5\n",
      "1 2 3 4 5\n",
      "5\n",
      "[1, 2, 3, 4, 5]\n"
     ]
    }
   ],
   "source": [
    "data = list(map(int, input().split()))\n",
    "print(n)\n",
    "print(data)"
   ]
  },
  {
   "cell_type": "code",
   "execution_count": 26,
   "id": "60aad873",
   "metadata": {},
   "outputs": [
    {
     "name": "stdout",
     "output_type": "stream",
     "text": [
      "\n"
     ]
    }
   ],
   "source": [
    "# 빠르게 입력 받기\n",
    "import sys\n",
    "data = sys.stdin.readline().rstrip()\n",
    "print(data)"
   ]
  },
  {
   "cell_type": "code",
   "execution_count": 28,
   "id": "b12e03d5",
   "metadata": {},
   "outputs": [
    {
     "name": "stdout",
     "output_type": "stream",
     "text": [
      "정답은 7입니다\n"
     ]
    }
   ],
   "source": [
    "answer = 7\n",
    "print(f\"정답은 {answer}입니다\")"
   ]
  },
  {
   "cell_type": "markdown",
   "id": "2c673b46",
   "metadata": {},
   "source": [
    "### 조건문"
   ]
  },
  {
   "cell_type": "code",
   "execution_count": 31,
   "id": "c33dbb78",
   "metadata": {},
   "outputs": [
    {
     "name": "stdout",
     "output_type": "stream",
     "text": [
      "성적 좋네\n",
      "성적 아주 좋네\n"
     ]
    }
   ],
   "source": [
    "score = 100\n",
    "\n",
    "if score >= 70:\n",
    "    print('성적 좋네')\n",
    "    if score >= 90:\n",
    "        print('성적 아주 좋네')\n",
    "        \n",
    "else:\n",
    "    print(\"성적이 안좋네\")"
   ]
  },
  {
   "cell_type": "code",
   "execution_count": 32,
   "id": "c4beb06e",
   "metadata": {},
   "outputs": [
    {
     "data": {
      "text/plain": [
       "True"
      ]
     },
     "execution_count": 32,
     "metadata": {},
     "output_type": "execute_result"
    }
   ],
   "source": [
    "1 in [1,2,3]"
   ]
  },
  {
   "cell_type": "markdown",
   "id": "f9c87c7d",
   "metadata": {},
   "source": [
    "#### 조건문 간소화"
   ]
  },
  {
   "cell_type": "code",
   "execution_count": 36,
   "id": "8bbc2ee3",
   "metadata": {},
   "outputs": [
    {
     "name": "stdout",
     "output_type": "stream",
     "text": [
      "Success\n"
     ]
    }
   ],
   "source": [
    "score = 85\n",
    "\n",
    "if score >= 80: result = \"Success\"\n",
    "else: result = 'Fail'\n",
    "    \n",
    "print(result)"
   ]
  },
  {
   "cell_type": "code",
   "execution_count": 39,
   "id": "a01b1684",
   "metadata": {},
   "outputs": [
    {
     "name": "stdout",
     "output_type": "stream",
     "text": [
      "Fail\n"
     ]
    }
   ],
   "source": [
    "score = 70\n",
    "result = \"Success\" if score >= 80 else \"Fail\"\n",
    "print(result)"
   ]
  },
  {
   "cell_type": "markdown",
   "id": "fbdf40c0",
   "metadata": {},
   "source": [
    "### 반복문(while)"
   ]
  },
  {
   "cell_type": "code",
   "execution_count": 41,
   "id": "18b7b673",
   "metadata": {},
   "outputs": [
    {
     "name": "stdout",
     "output_type": "stream",
     "text": [
      "45\n"
     ]
    }
   ],
   "source": [
    "# 1부터 9까지 모든 정수의 합 구하기\n",
    "i = 1 \n",
    "result = 0\n",
    "\n",
    "while i <= 9:\n",
    "    result += i\n",
    "    i += 1\n",
    "    \n",
    "print(result)"
   ]
  },
  {
   "cell_type": "code",
   "execution_count": 46,
   "id": "137302c4",
   "metadata": {},
   "outputs": [
    {
     "name": "stdout",
     "output_type": "stream",
     "text": [
      "25\n"
     ]
    }
   ],
   "source": [
    "# 1부터 9까지 모든 홀수의 합 구하기\n",
    "i = 1\n",
    "result = 0\n",
    "\n",
    "while i <= 9:\n",
    "    if i % 2 == 1:\n",
    "        result += i\n",
    "    i += 1\n",
    "    \n",
    "print(result)"
   ]
  },
  {
   "cell_type": "markdown",
   "id": "aa7c8e83",
   "metadata": {},
   "source": [
    "### 반복문(for)"
   ]
  },
  {
   "cell_type": "code",
   "execution_count": 47,
   "id": "8a7e2452",
   "metadata": {},
   "outputs": [
    {
     "name": "stdout",
     "output_type": "stream",
     "text": [
      "1\n",
      "2\n",
      "3\n"
     ]
    }
   ],
   "source": [
    "for i in [1,2,3]:\n",
    "    print(i)"
   ]
  },
  {
   "cell_type": "code",
   "execution_count": 49,
   "id": "32d95a0c",
   "metadata": {},
   "outputs": [
    {
     "name": "stdout",
     "output_type": "stream",
     "text": [
      "45\n"
     ]
    }
   ],
   "source": [
    "result = 0\n",
    "\n",
    "# i는 1부터 9까지의 모든 값을 순회\n",
    "\n",
    "for i in range(1,10):\n",
    "    result += i\n",
    "    \n",
    "print(result)"
   ]
  },
  {
   "cell_type": "code",
   "execution_count": 51,
   "id": "2128a306",
   "metadata": {},
   "outputs": [
    {
     "name": "stdout",
     "output_type": "stream",
     "text": [
      "25\n"
     ]
    }
   ],
   "source": [
    "result = 0\n",
    "for i in range(1,10):\n",
    "    if i % 2 == 0:\n",
    "        continue\n",
    "    result += i\n",
    "\n",
    "print(result)"
   ]
  },
  {
   "cell_type": "code",
   "execution_count": 52,
   "id": "2918ee1a",
   "metadata": {},
   "outputs": [
    {
     "name": "stdout",
     "output_type": "stream",
     "text": [
      "1\n",
      "2\n",
      "3\n",
      "4\n",
      "5\n"
     ]
    }
   ],
   "source": [
    "i = 1\n",
    "while True:\n",
    "    print(i)\n",
    "    if i == 5:\n",
    "        break\n",
    "    i += 1\n",
    "\n",
    "    "
   ]
  },
  {
   "cell_type": "code",
   "execution_count": 54,
   "id": "c1e28fb0",
   "metadata": {},
   "outputs": [
    {
     "name": "stdout",
     "output_type": "stream",
     "text": [
      "3 합격\n",
      "4 합격\n",
      "5 합격\n"
     ]
    }
   ],
   "source": [
    "scores = [1,2,3,4,5]\n",
    "\n",
    "for i in range(5):\n",
    "    if scores[i] >= 3:\n",
    "        print(i+1, '합격')"
   ]
  },
  {
   "cell_type": "code",
   "execution_count": 55,
   "id": "a0a3db9c",
   "metadata": {},
   "outputs": [
    {
     "name": "stdout",
     "output_type": "stream",
     "text": [
      "1 번 학생은 합격입니다.\n",
      "5 번 학생은 합격입니다.\n"
     ]
    }
   ],
   "source": [
    "scores = [90, 85, 77, 65, 97]\n",
    "cheating_student_list = {2,4}\n",
    "\n",
    "for i in range(5):\n",
    "    if i + 1 in cheating_student_list:\n",
    "        continue\n",
    "    if scores[i] >= 80:\n",
    "        print(i+1, \"번 학생은 합격입니다.\")"
   ]
  },
  {
   "cell_type": "code",
   "execution_count": 58,
   "id": "a661c343",
   "metadata": {},
   "outputs": [
    {
     "name": "stdout",
     "output_type": "stream",
     "text": [
      "2 X 1 = 2\n",
      "2 X 2 = 4\n",
      "2 X 3 = 6\n",
      "2 X 4 = 8\n",
      "2 X 5 = 10\n",
      "2 X 6 = 12\n",
      "2 X 7 = 14\n",
      "2 X 8 = 16\n",
      "2 X 9 = 18\n",
      "\n",
      "3 X 1 = 3\n",
      "3 X 2 = 6\n",
      "3 X 3 = 9\n",
      "3 X 4 = 12\n",
      "3 X 5 = 15\n",
      "3 X 6 = 18\n",
      "3 X 7 = 21\n",
      "3 X 8 = 24\n",
      "3 X 9 = 27\n",
      "\n",
      "4 X 1 = 4\n",
      "4 X 2 = 8\n",
      "4 X 3 = 12\n",
      "4 X 4 = 16\n",
      "4 X 5 = 20\n",
      "4 X 6 = 24\n",
      "4 X 7 = 28\n",
      "4 X 8 = 32\n",
      "4 X 9 = 36\n",
      "\n",
      "5 X 1 = 5\n",
      "5 X 2 = 10\n",
      "5 X 3 = 15\n",
      "5 X 4 = 20\n",
      "5 X 5 = 25\n",
      "5 X 6 = 30\n",
      "5 X 7 = 35\n",
      "5 X 8 = 40\n",
      "5 X 9 = 45\n",
      "\n",
      "6 X 1 = 6\n",
      "6 X 2 = 12\n",
      "6 X 3 = 18\n",
      "6 X 4 = 24\n",
      "6 X 5 = 30\n",
      "6 X 6 = 36\n",
      "6 X 7 = 42\n",
      "6 X 8 = 48\n",
      "6 X 9 = 54\n",
      "\n",
      "7 X 1 = 7\n",
      "7 X 2 = 14\n",
      "7 X 3 = 21\n",
      "7 X 4 = 28\n",
      "7 X 5 = 35\n",
      "7 X 6 = 42\n",
      "7 X 7 = 49\n",
      "7 X 8 = 56\n",
      "7 X 9 = 63\n",
      "\n",
      "8 X 1 = 8\n",
      "8 X 2 = 16\n",
      "8 X 3 = 24\n",
      "8 X 4 = 32\n",
      "8 X 5 = 40\n",
      "8 X 6 = 48\n",
      "8 X 7 = 56\n",
      "8 X 8 = 64\n",
      "8 X 9 = 72\n",
      "\n",
      "9 X 1 = 9\n",
      "9 X 2 = 18\n",
      "9 X 3 = 27\n",
      "9 X 4 = 36\n",
      "9 X 5 = 45\n",
      "9 X 6 = 54\n",
      "9 X 7 = 63\n",
      "9 X 8 = 72\n",
      "9 X 9 = 81\n",
      "\n"
     ]
    }
   ],
   "source": [
    "for i in range(2,10):\n",
    "    for j in range(1, 10):\n",
    "        print(i, \"X\", j, \"=\", i*j)\n",
    "    print()"
   ]
  },
  {
   "cell_type": "markdown",
   "id": "dd54f1bc",
   "metadata": {},
   "source": [
    "# 파이썬 메모리"
   ]
  },
  {
   "cell_type": "code",
   "execution_count": 3,
   "id": "b2439046",
   "metadata": {},
   "outputs": [
    {
     "data": {
      "text/plain": [
       "'line1\\nline2'"
      ]
     },
     "execution_count": 3,
     "metadata": {},
     "output_type": "execute_result"
    }
   ],
   "source": [
    "mymsg=['line1','line2']\n",
    "'\\n'.join(mymsg)"
   ]
  },
  {
   "cell_type": "code",
   "execution_count": 4,
   "id": "51592a41",
   "metadata": {},
   "outputs": [
    {
     "data": {
      "text/plain": [
       "140302757194064"
      ]
     },
     "execution_count": 4,
     "metadata": {},
     "output_type": "execute_result"
    }
   ],
   "source": [
    "id(2)"
   ]
  },
  {
   "cell_type": "code",
   "execution_count": 5,
   "id": "1133f190",
   "metadata": {},
   "outputs": [
    {
     "data": {
      "text/plain": [
       "'0x7f9ac800e950'"
      ]
     },
     "execution_count": 5,
     "metadata": {},
     "output_type": "execute_result"
    }
   ],
   "source": [
    "hex(id(2))"
   ]
  },
  {
   "cell_type": "code",
   "execution_count": 9,
   "id": "b88bcf84",
   "metadata": {},
   "outputs": [
    {
     "name": "stdout",
     "output_type": "stream",
     "text": [
      "0.028984785079956055\n"
     ]
    }
   ],
   "source": [
    "import time\n",
    "\n",
    "start_time = time.time()\n",
    "a = list(range(100000))\n",
    "a2 = list()\n",
    "\n",
    "for i in a:\n",
    "    a2.append(i*2)\n",
    "\n",
    "end_time = time.time() \n",
    "fin = end_time - start_time\n",
    "print(fin)"
   ]
  },
  {
   "cell_type": "code",
   "execution_count": 7,
   "id": "dd97ec8a",
   "metadata": {},
   "outputs": [
    {
     "name": "stdout",
     "output_type": "stream",
     "text": [
      "0.018098115921020508\n"
     ]
    }
   ],
   "source": [
    "import time\n",
    "\n",
    "start_time = time.time()\n",
    "temp = [x*2 for x in range(100000)]\n",
    "end_time = time.time()\n",
    "fin = end_time - start_time\n",
    "print(fin)"
   ]
  },
  {
   "cell_type": "code",
   "execution_count": 8,
   "id": "6ade4843",
   "metadata": {},
   "outputs": [
    {
     "name": "stdout",
     "output_type": "stream",
     "text": [
      "0.01229095458984375\n"
     ]
    }
   ],
   "source": [
    "import time\n",
    "\n",
    "start_time = time.time()\n",
    "a = list(range(100000))\n",
    "a2 = map(lambda n: n*2, a)\n",
    "end_time = time.time()\n",
    "\n",
    "fin = end_time - start_time\n",
    "print(fin)"
   ]
  },
  {
   "cell_type": "code",
   "execution_count": 1,
   "id": "48ef9593",
   "metadata": {},
   "outputs": [
    {
     "data": {
      "text/plain": [
       "1"
      ]
     },
     "execution_count": 1,
     "metadata": {},
     "output_type": "execute_result"
    }
   ],
   "source": [
    "3//3"
   ]
  },
  {
   "cell_type": "markdown",
   "id": "065380ea-e531-4946-a45e-6131e9457672",
   "metadata": {},
   "source": [
    "### 피보나치"
   ]
  },
  {
   "cell_type": "code",
   "execution_count": 5,
   "id": "2313c9e8-fd74-4d46-b761-d52850eb4d46",
   "metadata": {},
   "outputs": [],
   "source": [
    "# if n == 6\n",
    "1, 1, 2, 3, 5, 8\n",
    "def fib_iter(n):\n",
    "    if (n<2): return n\n",
    "\n",
    "    last = 0\n",
    "    current = 1\n",
    "    for i in range(2, n+1): # 2,3,4,5,6 / 5번\n",
    "        tmp = current\n",
    "        current += last\n",
    "        last = tmp\n",
    "    return current\n",
    "\n",
    "# 1, 1, 2, 3, "
   ]
  },
  {
   "cell_type": "markdown",
   "id": "4e097733-bb73-469d-9227-71367a738244",
   "metadata": {},
   "source": [
    "tmp = 1\n",
    "current = 1\n",
    "last = 1\n",
    "\n",
    "tmp 1\n",
    "current 2\n",
    "last = 1\n",
    "\n",
    "tmp = 2\n",
    "current = 3\n",
    "last = 2\n",
    "\n",
    "tmp = 3\n",
    "current = 5\n",
    "last =3\n",
    "\n",
    "tmp = 5\n",
    "currnet = 8\n",
    "last = 5"
   ]
  },
  {
   "cell_type": "code",
   "execution_count": 4,
   "id": "38d3f0df-0d05-4642-9b9a-6c5b9e341e60",
   "metadata": {},
   "outputs": [
    {
     "data": {
      "text/plain": [
       "8"
      ]
     },
     "execution_count": 4,
     "metadata": {},
     "output_type": "execute_result"
    }
   ],
   "source": [
    "fib_iter(6)"
   ]
  },
  {
   "cell_type": "markdown",
   "id": "9e757531-86f7-412f-a443-e8cc2852c5f3",
   "metadata": {},
   "source": [
    "### 하노이타워"
   ]
  },
  {
   "cell_type": "code",
   "execution_count": 17,
   "id": "9b904741-80ac-426b-bac0-b4cb78d93807",
   "metadata": {},
   "outputs": [],
   "source": [
    "def hanoi_tower(n, fr, tmp, to):\n",
    "\n",
    "    if (n==1):\n",
    "        print('원판 1: %s --> %s' % (fr, to))\n",
    "    else:\n",
    "        hanoi_tower(n-1, fr, to, tmp)\n",
    "        print('원판 %d: %s --> %s' % (n,fr,to))\n",
    "        \n",
    "        hanoi_tower(n-1, tmp, fr, to)\n",
    "                    "
   ]
  },
  {
   "cell_type": "code",
   "execution_count": 18,
   "id": "fbcce0f7-f700-4fdf-b34e-f3ff6211c33a",
   "metadata": {},
   "outputs": [
    {
     "name": "stdout",
     "output_type": "stream",
     "text": [
      "원판 1: A --> B\n",
      "원판 2: A --> C\n",
      "원판 1: B --> C\n",
      "원판 3: A --> B\n",
      "원판 1: C --> A\n",
      "원판 2: C --> B\n",
      "원판 1: A --> B\n",
      "원판 4: A --> C\n",
      "원판 1: B --> C\n",
      "원판 2: B --> A\n",
      "원판 1: C --> A\n",
      "원판 3: B --> C\n",
      "원판 1: A --> B\n",
      "원판 2: A --> C\n",
      "원판 1: B --> C\n"
     ]
    }
   ],
   "source": [
    "hanoi_tower(4, 'A', 'B', 'C')"
   ]
  },
  {
   "cell_type": "code",
   "execution_count": null,
   "id": "d02aa0a9-a0b7-4154-8efa-3518692727de",
   "metadata": {},
   "outputs": [],
   "source": []
  }
 ],
 "metadata": {
  "kernelspec": {
   "display_name": "Python 3 (ipykernel)",
   "language": "python",
   "name": "python3"
  },
  "language_info": {
   "codemirror_mode": {
    "name": "ipython",
    "version": 3
   },
   "file_extension": ".py",
   "mimetype": "text/x-python",
   "name": "python",
   "nbconvert_exporter": "python",
   "pygments_lexer": "ipython3",
   "version": "3.10.6"
  }
 },
 "nbformat": 4,
 "nbformat_minor": 5
}
