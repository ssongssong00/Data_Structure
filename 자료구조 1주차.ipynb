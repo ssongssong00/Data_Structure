{
 "cells": [
  {
   "cell_type": "markdown",
   "id": "f169356c",
   "metadata": {},
   "source": [
    "# 2023.03.13(월)\n",
    "\n",
    "1강 코딩테스트란 무엇인가  \n",
    "2강 알고리즘 성능 평가  \n",
    "3강 파이썬 문법 수 자료형  \n",
    "4간 파이썬 문법 리스트 자료형(8분까지)"
   ]
  },
  {
   "cell_type": "markdown",
   "id": "5865bebc",
   "metadata": {},
   "source": [
    "--------"
   ]
  },
  {
   "cell_type": "markdown",
   "id": "ae1b7c7a",
   "metadata": {},
   "source": [
    "## 알고리즘 문제 해결 과정\n",
    "1. 지문 읽기 및 컴퓨터적 사고\n",
    "2. 요구사항(복잡도) 분석\n",
    "3. 문제 해결을 위한 **핵심 아이디어** 찾기\n",
    "4. 소스코드 설계 및 코딩"
   ]
  },
  {
   "cell_type": "markdown",
   "id": "60d75eda",
   "metadata": {},
   "source": [
    "### 시간복잡도"
   ]
  },
  {
   "cell_type": "markdown",
   "id": "bfe2c332",
   "metadata": {},
   "source": [
    "##### O(N)"
   ]
  },
  {
   "cell_type": "code",
   "execution_count": 2,
   "id": "8a2f1245",
   "metadata": {},
   "outputs": [
    {
     "name": "stdout",
     "output_type": "stream",
     "text": [
      "15\n"
     ]
    }
   ],
   "source": [
    "array = [3, 5, 1, 2, 4]\n",
    "summary = 0\n",
    "\n",
    "for x in array:\n",
    "    summary += x\n",
    "    \n",
    "print(summary)"
   ]
  },
  {
   "cell_type": "markdown",
   "id": "7386aaa6",
   "metadata": {},
   "source": [
    "##### O(N^2)"
   ]
  },
  {
   "cell_type": "code",
   "execution_count": 3,
   "id": "08ef885f",
   "metadata": {},
   "outputs": [
    {
     "name": "stdout",
     "output_type": "stream",
     "text": [
      "9\n",
      "15\n",
      "3\n",
      "6\n",
      "12\n",
      "15\n",
      "25\n",
      "5\n",
      "10\n",
      "20\n",
      "3\n",
      "5\n",
      "1\n",
      "2\n",
      "4\n",
      "6\n",
      "10\n",
      "2\n",
      "4\n",
      "8\n",
      "12\n",
      "20\n",
      "4\n",
      "8\n",
      "16\n"
     ]
    }
   ],
   "source": [
    "# 25번 연산\n",
    "\n",
    "for i in array:\n",
    "    for j in array:\n",
    "        temp = i * j\n",
    "        print(temp)"
   ]
  },
  {
   "cell_type": "markdown",
   "id": "4045f08f",
   "metadata": {},
   "source": [
    "### 수행 시간 측정"
   ]
  },
  {
   "cell_type": "code",
   "execution_count": 6,
   "id": "4a633530",
   "metadata": {},
   "outputs": [
    {
     "name": "stdout",
     "output_type": "stream",
     "text": [
      "9\n",
      "15\n",
      "3\n",
      "6\n",
      "12\n",
      "15\n",
      "25\n",
      "5\n",
      "10\n",
      "20\n",
      "3\n",
      "5\n",
      "1\n",
      "2\n",
      "4\n",
      "6\n",
      "10\n",
      "2\n",
      "4\n",
      "8\n",
      "12\n",
      "20\n",
      "4\n",
      "8\n",
      "16\n",
      "time:  0.0013408660888671875\n"
     ]
    }
   ],
   "source": [
    "import time\n",
    "start_time = time.time()\n",
    "\n",
    "for i in array:\n",
    "    for j in array:\n",
    "        temp = i * j\n",
    "        print(temp)\n",
    "        \n",
    "end_time = time.time()\n",
    "print(\"time: \", end_time - start_time)"
   ]
  },
  {
   "cell_type": "markdown",
   "id": "a47e205b",
   "metadata": {},
   "source": [
    "### 자료형\n",
    "1. 정수형\n",
    "2. 실수형\n",
    "3. 리스트"
   ]
  },
  {
   "cell_type": "code",
   "execution_count": null,
   "id": "69fd9f54",
   "metadata": {},
   "outputs": [],
   "source": []
  }
 ],
 "metadata": {
  "kernelspec": {
   "display_name": "Python 3 (ipykernel)",
   "language": "python",
   "name": "python3"
  },
  "language_info": {
   "codemirror_mode": {
    "name": "ipython",
    "version": 3
   },
   "file_extension": ".py",
   "mimetype": "text/x-python",
   "name": "python",
   "nbconvert_exporter": "python",
   "pygments_lexer": "ipython3",
   "version": "3.9.12"
  }
 },
 "nbformat": 4,
 "nbformat_minor": 5
}
